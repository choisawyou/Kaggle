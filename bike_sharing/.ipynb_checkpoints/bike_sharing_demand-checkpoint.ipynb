{
 "cells": [
  {
   "cell_type": "markdown",
   "metadata": {},
   "source": [
    "# Evaluation : RMSLE \n",
    "##RMSLE \n",
    "\n",
    "- RMSE 에 log 씌운값\n",
    "- 과대평가된 항목보다는 과소평과된 항목에 패널티를 준다\n",
    "    - 예측값이 실제값보다 더 작을 때 큰 패널티 \n",
    "- 오차(error)를 제곱(square)해서 평균(mean)한 값의 제곱근(root)으로 값이 작을수록 정밀도가 높다\n",
    "- 0에 가까운 값이 나올 수록 정밀도가 높은값이다\n",
    "- 값이 작을수록 오류가 적다는 의미\n",
    "\n",
    "*배달 음식을 시킬 때 30분이 걸린다고 했는데 실제로 20분이 걸리는 건 큰 문제가 되지 않지만, 30분이 걸린다고 했는데 40분이 걸리면 고객이 화가 날 수 있습니다. 이럴 때 RMSLE를 적용할 수 있습니다.\n",
    "\n",
    "\n",
    "- 1. 아웃라이어에 강건해진다\n",
    "    RMSLE는 아웃라이어에 강건(Robust)합니다. 예를 들어보겠습니다.\n",
    "\n",
    "    예측값 = 67, 78, 91, 실제값 = 60, 80, 90일 때, RMSE = 4.242, RMSLE = 0.6466입니다.\n",
    "\n",
    "    예측값 = 67, 78, 91, 102, 실제값 = 60, 80, 90, 750일 때 RMSE = 374.724, RMSLE = 1.160입니다. 750이라는 아웃라이어 때문에 RMSE는 굉장히 증가했지만 RMSLE의 증가는 미미합니다. RMSLE는 아웃라이어가 있더라도 값의 변동폭이 크지 않습니다. 따라서 RMSLE는 아웃라이어에 강건하다고 말할 수 있습니다.\n",
    "\n",
    "- 2. 상대적 Error를 측정해준다.\n",
    "\n",
    "    예측값과 실제값에 로그를 취해주면 로그 공식에 의해 아래와 같이 상대적 비율을 구할 수 있습니다.\n",
    "\n",
    "    예측값 = 100, 실제값 = 90일 때, RMSLE = 0.1053, RMSE = 10입니다.\n",
    "\n",
    "    예측값 = 10,000, 실제값 = 9,000일 때, RMSLE = 0.1053, RMSE = 1,000입니다.\n",
    "\n",
    "    보시는 바와 같이 값의 절대적 크기가 변하더라도 상대적 크기가 동일하다면 RMSLE 값도 동일합니다. 반면, 상대적 크기가 동일하더라도 절대적 크기가 변하면 RMSE 값은 변합니다. 따라서 RMSE와 달리 RMSLE는 예측값과 실제값의 상대적 Error를 측정해줍니다.\n",
    "\n",
    "3. Under Estimation에 큰 패널티를 부여한다.\n",
    "\n",
    "    RMSLE는 Over Estimation보다 Under Estimation에 더 큰 패널티를 부여합니다. 즉, 예측값이 실제값보다 클 때보다 예측값이 실제값보다 작을 때 더 큰 패널티를 부여합니다.\n",
    "\n",
    "    예측값 = 600, 실제값 = 1,000일 때 RMSE = 400, RMSLE = 0.510입니다.\n",
    "\n",
    "    예측값 = 1,400, 실제값 = 1,000일 때 RMSE = 400, RMSLE = 0.33입니다.\n",
    "\n",
    "    예측값과 실제값의 차이는 둘 다 400입니다. Over Estimation이든 Under Estimation이든 RMSE값은 동일합니다. 하지만 RMSLE는 Under Estimation일 때 (즉, 예측값이 실제값보다 작을 때) 더 높은 페널티가 주어집니다.\n",
    "    *배달 음식을 시킬 때 30분이 걸린다고 했는데 실제로 20분이 걸리는 건 큰 문제가 되지 않지만, 30분이 걸린다고 했는데 40분이 걸리면 고객이 화가 날 수 있습니다. 이럴 때 RMSLE를 적용할 수 있습니다.\n",
    "\n",
    "\n",
    "\n",
    "Cf) RMSE : 예측값과 실제값의 차 각각을 제곱한 값을 평균 내고 , 루트를 씌운다 "
   ]
  },
  {
   "cell_type": "markdown",
   "metadata": {},
   "source": [
    "# Description¶\n",
    "- datetime - hourly date + timestamp\n",
    "- season - 1 = spring, 2 = summer, 3 = fall, 4 = winter\n",
    "- holiday - whether the day is considered a holiday\n",
    "- workingday - whether the day is neither a weekend nor holiday\n",
    "- weather\n",
    "    - 1: Clear, Few clouds, Partly cloudy, Partly cloudy\n",
    "    - 2: Mist + Cloudy, Mist + Broken clouds, Mist + Few clouds, Mist\n",
    "    - 3: Light Snow, Light Rain + Thunderstorm + Scattered clouds, Light Rain + Scattered clouds\n",
    "    - 4: Heavy Rain + Ice Pallets + Thunderstorm + Mist, Snow + Fog\n",
    "- temp - temperature in Celsius\n",
    "- atemp - \"feels like\" temperature in Celsius\n",
    "- humidity - relative humidity\n",
    "- windspeed - wind speed\n",
    "- casual - number of non-registered user rentals initiated\n",
    "- registered - number of registered user rentals initiated\n",
    "- count - number of total rentals"
   ]
  },
  {
   "cell_type": "markdown",
   "metadata": {},
   "source": [
    "# EDA"
   ]
  },
  {
   "cell_type": "code",
   "execution_count": 1,
   "metadata": {},
   "outputs": [],
   "source": [
    "import pandas as pd\n",
    "import numpy as np\n",
    "import matplotlib as mpl\n",
    "import matplotlib.pyplot as plt\n",
    "import seaborn as sns\n",
    "from scipy import stats\n",
    "\n",
    "%matplotlib inline\n",
    "plt.style.use('ggplot')\n",
    "mpl.rcParams['axes.unicode_minus'] = False\n"
   ]
  },
  {
   "cell_type": "code",
   "execution_count": null,
   "metadata": {},
   "outputs": [],
   "source": [
    "train = pd.read_csv('./train.csv',parse_dates =['datetime'])\n",
    "train.shape\n",
    "\n",
    "test = pd.read_csv('./test.csv',parse_dates=['datetime'])\n",
    "test.shape"
   ]
  },
  {
   "cell_type": "code",
   "execution_count": null,
   "metadata": {},
   "outputs": [],
   "source": [
    "train.head()"
   ]
  },
  {
   "cell_type": "code",
   "execution_count": null,
   "metadata": {},
   "outputs": [],
   "source": [
    "\n",
    "train.info()"
   ]
  },
  {
   "cell_type": "code",
   "execution_count": null,
   "metadata": {},
   "outputs": [],
   "source": [
    "train.isnull().sum()"
   ]
  },
  {
   "cell_type": "code",
   "execution_count": null,
   "metadata": {},
   "outputs": [],
   "source": [
    "# import missingno as msno\n",
    "\n",
    "# msno.matrix(train,figsize=(12,5))"
   ]
  },
  {
   "cell_type": "markdown",
   "metadata": {},
   "source": [
    "## datetime "
   ]
  },
  {
   "cell_type": "code",
   "execution_count": null,
   "metadata": {},
   "outputs": [],
   "source": [
    "train['year']=train['datetime'].dt.year\n",
    "train['month']=train['datetime'].dt.month\n",
    "train['day']=train['datetime'].dt.day \n",
    "train['hour']=train['datetime'].dt.hour\n",
    "train['minute']=train['datetime'].dt.minute\n",
    "train['second']=train['datetime'].dt.second\n",
    "\n",
    "train.shape\n"
   ]
  },
  {
   "cell_type": "code",
   "execution_count": null,
   "metadata": {},
   "outputs": [],
   "source": [
    "dir(train['temp'])\n",
    "\n",
    "train['temp'].mean()"
   ]
  },
  {
   "cell_type": "code",
   "execution_count": null,
   "metadata": {},
   "outputs": [],
   "source": [
    "train.head()"
   ]
  },
  {
   "cell_type": "code",
   "execution_count": null,
   "metadata": {},
   "outputs": [],
   "source": [
    "figure,((ax1,ax2,ax3),(ax4,ax5,ax6)) =plt.subplots(nrows=2,ncols=3)\n",
    "figure.set_size_inches(18,10)\n",
    "\n",
    "\n",
    "sns.barplot(data =train,x=\"year\",y='count',ax=ax1)\n",
    "sns.barplot(data =train,x='month',y='count',ax=ax2)\n",
    "sns.barplot(data=train,x='day',y='count',ax=ax3)\n",
    "sns.barplot(data=train,x='hour',y='count',ax=ax4)\n",
    "sns.barplot(data=train,x='minute',y='count',ax=ax5)\n",
    "sns.barplot(data=train,x='second',y='count',ax=ax6)\n",
    "\n",
    "ax1.set(ylabel='Count',title='Year')\n",
    "ax2.set(ylabel='Count',title='Month')\n",
    "ax3.set(ylabel='Count',title='Day')\n",
    "ax4.set(ylabel='Count',title='Hour')\n",
    "ax5.set(ylabel='Count',title='Minute')\n",
    "ax6.set(ylabel='Count',title='Second')\n",
    "\n",
    "plt.savefig(\"./images/datetime_feature_1\")"
   ]
  },
  {
   "cell_type": "markdown",
   "metadata": {},
   "source": [
    "### result\n",
    "- 연도별 대여량은 2011년 보다 2012년이 더 많다.\n",
    "- 월별 대여량은 6월에 가장 많고 7~10월도 대여량이 많다. 그리고 1월에 가장 적다.\n",
    "- 일별대여량은 1일부터 19일까지만 있고 나머지 날짜는 test.csv에 있다. 그래서 이 데이터는 피처로 사용하면 안 된다.\n",
    "- 시간 대 대여량을 보면 출퇴근 시간에 대여량이 많은 것 같다. 하지만 주말과 나누어 볼 필요가 있을 것 같다.\n",
    "- 분, 초도 다 0이기 때문에 의미가 없다.\n"
   ]
  },
  {
   "cell_type": "markdown",
   "metadata": {},
   "source": [
    "## 상황별 count"
   ]
  },
  {
   "cell_type": "code",
   "execution_count": null,
   "metadata": {},
   "outputs": [],
   "source": [
    "fig,axes = plt.subplots(nrows=2,ncols=2)\n",
    "fig.set_size_inches(12,10)\n",
    "sns.boxplot(data=train,y='count',orient='v',ax=axes[0][0])\n",
    "sns.boxplot(data=train,y='count',x='season',orient='v',ax=axes[0][1])\n",
    "sns.boxplot(data=train,y='count',x='hour',orient='v',ax=axes[1][0])\n",
    "sns.boxplot(data=train,y='count',x='workingday',orient='v',ax=axes[1][1])\n",
    "\n",
    "axes[0][0].set(ylabel='count',title='Total count')\n",
    "axes[0][1].set(xlabel='Season',title='Season & count')\n",
    "axes[1][0].set(xlabel='Hour',title='Hour & count')\n",
    "axes[1][1].set(xlabel='Working Day',title='Working day & count')\n",
    "\n",
    "plt.savefig('./images/count_per_2')"
   ]
  },
  {
   "cell_type": "code",
   "execution_count": null,
   "metadata": {},
   "outputs": [],
   "source": [
    "#요일 추가 #시간별 대여량 => 출퇴근 상위 => 주말을 추가해보자!\n",
    "train['dayofweek'] = train['datetime'].dt.dayofweek\n",
    "train.shape"
   ]
  },
  {
   "cell_type": "code",
   "execution_count": null,
   "metadata": {},
   "outputs": [],
   "source": [
    "train['dayofweek'].value_counts()"
   ]
  },
  {
   "cell_type": "code",
   "execution_count": null,
   "metadata": {},
   "outputs": [],
   "source": [
    "fig,(ax1,ax2,ax3,ax4,ax5) = plt.subplots(nrows=5)\n",
    "fig.set_size_inches(18,25)\n",
    "sns.pointplot(data=train, x=\"hour\", y=\"count\", ax=ax1)\n",
    "\n",
    "sns.pointplot(data=train, x=\"hour\", y=\"count\", hue=\"workingday\", ax=ax2)\n",
    "\n",
    "sns.pointplot(data=train, x=\"hour\", y=\"count\", hue=\"dayofweek\", ax=ax3)\n",
    "\n",
    "sns.pointplot(data=train, x=\"hour\", y=\"count\", hue=\"weather\", ax=ax4)\n",
    "\n",
    "sns.pointplot(data=train, x=\"hour\", y=\"count\", hue=\"season\", ax=ax5)\n",
    "\n",
    "\n",
    "plt.savefig('./images/시간대별 사용3')"
   ]
  },
  {
   "cell_type": "markdown",
   "metadata": {},
   "source": [
    "### result\n",
    "- 전체 사용 출퇴근시간에 높다\n",
    "- 출근이 아닐때(주말)에는 오후시간대가 사용비중이 높다\n",
    "- 날씨가 좋을수록 사용빈도가 높다\n",
    "- 3->2->4->1"
   ]
  },
  {
   "cell_type": "markdown",
   "metadata": {},
   "source": [
    "## 상관관계 "
   ]
  },
  {
   "cell_type": "code",
   "execution_count": null,
   "metadata": {},
   "outputs": [],
   "source": [
    "corrMatt = train[['temp','atemp','casual','registered','humidity','windspeed','count']]\n",
    "corrMatt = corrMatt.corr()\n",
    "print(corrMatt)\n",
    "\n",
    "mask = np.array(corrMatt)\n",
    "mask[np.tril_indices_from(mask)] = False"
   ]
  },
  {
   "cell_type": "code",
   "execution_count": null,
   "metadata": {},
   "outputs": [],
   "source": [
    "print(mask)"
   ]
  },
  {
   "cell_type": "code",
   "execution_count": null,
   "metadata": {},
   "outputs": [],
   "source": [
    "\n",
    "fig,ax = plt.subplots()\n",
    "fig.set_size_inches(20,10)\n",
    "sns.heatmap(corrMatt,mask=mask,vmax=0.8,square=True,annot=True)\n",
    "\n",
    "plt.savefig('./images/heatmap4')"
   ]
  },
  {
   "cell_type": "markdown",
   "metadata": {},
   "source": []
  },
  {
   "cell_type": "code",
   "execution_count": null,
   "metadata": {},
   "outputs": [],
   "source": [
    "#온도 풍속 습도\n",
    "fig,(ax1,ax2,ax3) = plt.subplots(ncols=3)\n",
    "fig.set_size_inches(12,5)\n",
    "sns.regplot(x='temp',y='count',data=train,ax=ax1)\n",
    "sns.regplot(x='windspeed',y='count',data=train,ax=ax2)\n",
    "sns.regplot(x='humidity',y='count',data=train,ax=ax3)\n",
    "\n",
    "plt.savefig('./images/temp_humidity_windspeed5')"
   ]
  },
  {
   "cell_type": "code",
   "execution_count": null,
   "metadata": {},
   "outputs": [],
   "source": [
    "#풍속 시각화\n",
    "fig,axes = plt.subplots(nrows=2)\n",
    "fig.set_size_inches(18,10)\n",
    "\n",
    "plt.sca(axes[0])\n",
    "plt.xticks(rotation=30,ha='right')\n",
    "axes[0].set(ylabel='Count',title = 'train windspeed')\n",
    "sns.countplot(data=train,x='windspeed',ax=axes[0])\n",
    "\n",
    "plt.sca(axes[1])\n",
    "plt.xticks(rotation=30,ha='right')\n",
    "axes[1].set(ylabel='count',title='test windspeed')\n",
    "sns.countplot(data=test,x='windspeed',ax=axes[1])\n",
    "\n",
    "plt.savefig('./images/5-1windspeed')"
   ]
  },
  {
   "cell_type": "markdown",
   "metadata": {},
   "source": [
    "### result\n",
    "- temp atemp 상관관계 높다 둘중 하나만\n",
    "- 등록된 사용자 -count간 높음 but test데이터에없다\n",
    "- 온도  풍속 습도 상관관계 낮다\n",
    "\n",
    "- 풍속이 0인 값이 아주 많다 => 관측 불가시 0으로?..\n",
    "    - 바람은 기압차로 공기의 이동이다. 0이될 수 없음"
   ]
  },
  {
   "cell_type": "markdown",
   "metadata": {},
   "source": [
    "## 2011 2012 월별 비교"
   ]
  },
  {
   "cell_type": "code",
   "execution_count": null,
   "metadata": {},
   "outputs": [],
   "source": [
    "def concat_year_month(datetime):\n",
    "    return '{0}-{1}'.format(datetime.year,datetime.month)\n",
    "\n",
    "train['year_month']=train['datetime'].apply(concat_year_month)\n",
    "\n",
    "print(train.shape)\n",
    "train[['datetime','year_month']].head()"
   ]
  },
  {
   "cell_type": "code",
   "execution_count": null,
   "metadata": {
    "scrolled": false
   },
   "outputs": [],
   "source": [
    "fig, (ax1, ax2) = plt.subplots(nrows=1, ncols=2)\n",
    "fig.set_size_inches(18, 4)\n",
    "\n",
    "sns.barplot(data=train, x=\"year\", y=\"count\", ax=ax1)\n",
    "sns.barplot(data=train, x=\"month\", y=\"count\", ax=ax2)\n",
    "\n",
    "plt.savefig('./images/6yearmonth_compare')\n",
    "fig, ax3 = plt.subplots(nrows=1, ncols=1)\n",
    "fig.set_size_inches(18, 4)\n",
    "\n",
    "sns.barplot(data=train, x=\"year_month\", y=\"count\", ax=ax3)\n",
    "\n",
    "\n",
    "plt.savefig('./images/7month_compare')"
   ]
  },
  {
   "cell_type": "code",
   "execution_count": null,
   "metadata": {
    "scrolled": true
   },
   "outputs": [],
   "source": [
    "# #온도  비교  별차이없음\n",
    "# fig, ax3 = plt.subplots(nrows=1, ncols=1)\n",
    "# fig.set_size_inches(18, 4)\n",
    "\n",
    "# sns.barplot(data=train, x=\"year_month\", y=\"temp\", ax=ax3)\n",
    "\n",
    "\n",
    "# plt.savefig('./images/8temp_compare')\n"
   ]
  },
  {
   "cell_type": "code",
   "execution_count": null,
   "metadata": {},
   "outputs": [],
   "source": [
    "# #weather compare\n",
    "# fig, ax4 = plt.subplots(nrows=1, ncols=1)\n",
    "# fig.set_size_inches(18, 4)\n",
    "\n",
    "# sns.barplot(data=train, x=\"year_month\", y=\"weather\", ax=ax4)\n",
    "\n",
    "\n",
    "# plt.savefig('./images/9weather_compare')\n"
   ]
  },
  {
   "cell_type": "markdown",
   "metadata": {},
   "source": [
    "### result\n",
    "- 2012의 대여량이 높다\n",
    "- 따듯할때 대여량이 높다\n",
    "- 전체적으로 2012가 높다ㅡ"
   ]
  },
  {
   "cell_type": "code",
   "execution_count": null,
   "metadata": {},
   "outputs": [],
   "source": [
    "# a=temp_avg['year_month'].str.split('-')[:,1]"
   ]
  },
  {
   "cell_type": "code",
   "execution_count": null,
   "metadata": {},
   "outputs": [],
   "source": [
    "fig, ax3 = plt.subplots(nrows=1, ncols=1)\n",
    "fig.set_size_inches(18, 4)\n",
    "\n",
    "sns.barplot(data=temp_avg, x=\"year_month\", y=\"temp\", ax=ax3)\n"
   ]
  },
  {
   "cell_type": "code",
   "execution_count": null,
   "metadata": {},
   "outputs": [],
   "source": []
  },
  {
   "cell_type": "code",
   "execution_count": null,
   "metadata": {},
   "outputs": [],
   "source": []
  },
  {
   "cell_type": "markdown",
   "metadata": {},
   "source": [
    "## outlier\n",
    "\n",
    "- 통계학에서 68-95-99.7 규칙(영어: 68-95-99.7 rule)은 정규 분포를 나타내는 규칙으로, 경험적인 규칙(empirical rule)이라고도 한다. 3시그마 규칙(three-sigma rule)이라고도 하는데 이 때는 평균에서 양쪽으로 3표준편차의 범위에 거의 모든 값들(99.7%)이 들어간다는 것을 나타낸다.\n",
    "\n",
    "- 약 68%의 값들이 평균에서 양쪽으로 1 표준편차 범위(μ±σ)에 존재한다.\n",
    "- 약 95%의 값들이 평균에서 양쪽으로 2 표준편차 범위(μ±2σ)에 존재한다.\n",
    "- 거의 모든 값들(실제로는 99.7%)이 평균에서 양쪽으로 3표준편차 범위(μ±3σ)에 존재한다.\n",
    "- \n",
    "\n",
    "- \n",
    "- https://programmers.co.kr/learn/questions/2351\n",
    "- 3번을 보시면, 아웃라이어를 |값-평균| >= 3표준편차 인 것으로 설정했습니다.\n",
    "\n",
    "\n"
   ]
  },
  {
   "cell_type": "code",
   "execution_count": null,
   "metadata": {},
   "outputs": [],
   "source": [
    "trainWithoutOutliers = train[np.abs(train['count'] - train['count'].mean()) <= (3*train['count'].std())]\n",
    "\n",
    "print(train.shape)\n",
    "print(trainWithoutOutliers.shape)\n",
    "\n",
    "#ㅇ이상치 147개 제거"
   ]
  },
  {
   "cell_type": "code",
   "execution_count": null,
   "metadata": {},
   "outputs": [],
   "source": [
    "figure ,axes = plt.subplots(ncols =2,nrows =2)\n",
    "figure.set_size_inches(12,10)\n",
    "\n",
    "sns.distplot(train['count'],ax =axes[0][0])\n",
    "stats.probplot(train['count'],dist='norm',fit=True,plot=axes[0][1])\n",
    "sns.distplot(np.log(trainWithoutOutliers['count']),ax=axes[1][0])\n",
    "stats.probplot(np.log1p(trainWithoutOutliers['count']),dist='norm',fit=True,plot=axes[1][1])\n",
    "\n",
    "\n",
    "plt.savefig('./images/7outliers_bf_af')"
   ]
  },
  {
   "cell_type": "markdown",
   "metadata": {},
   "source": [
    "### result\n",
    "- count변수가 오른쪽에 치우쳐져 있다. 대부분의 기계학습은 종속변수가 normal 이어야 하기에 정규분포를 갖는 것이 바람직하다. 대안으로 outlier data를 제거하고 \"count\"변수에 로그를 씌워 변경해 봐도 정규분포를 따르지는 않지만 이전 그래프보다는 좀 더 자세히 표현하고 있다.\n",
    "\n"
   ]
  },
  {
   "cell_type": "markdown",
   "metadata": {},
   "source": [
    "# Feature Engineering"
   ]
  },
  {
   "cell_type": "code",
   "execution_count": null,
   "metadata": {},
   "outputs": [],
   "source": [
    "train = pd.read_csv('./train.csv',parse_dates =['datetime'])\n",
    "train.shape\n",
    "\n",
    "\n",
    "\n",
    "test = pd.read_csv('./test.csv',parse_dates=['datetime'])\n",
    "test.shape\n",
    "\n",
    "train[\"year\"] = train[\"datetime\"].dt.year\n",
    "train[\"month\"] = train[\"datetime\"].dt.month\n",
    "train[\"day\"] = train[\"datetime\"].dt.day\n",
    "train[\"hour\"] = train[\"datetime\"].dt.hour\n",
    "train[\"minute\"] = train[\"datetime\"].dt.minute\n",
    "train[\"second\"] = train[\"datetime\"].dt.second\n",
    "train[\"dayofweek\"] = train[\"datetime\"].dt.dayofweek\n",
    "train.shape\n",
    "\n",
    "\n",
    "test[\"year\"] = test[\"datetime\"].dt.year\n",
    "test[\"month\"] = test[\"datetime\"].dt.month\n",
    "test[\"day\"] = test[\"datetime\"].dt.day\n",
    "test[\"hour\"] = test[\"datetime\"].dt.hour\n",
    "test[\"minute\"] = test[\"datetime\"].dt.minute\n",
    "test[\"second\"] = test[\"datetime\"].dt.second\n",
    "test[\"dayofweek\"] = test[\"datetime\"].dt.dayofweek\n",
    "test.shape"
   ]
  },
  {
   "cell_type": "markdown",
   "metadata": {},
   "source": [
    "## windspeed"
   ]
  },
  {
   "cell_type": "code",
   "execution_count": null,
   "metadata": {},
   "outputs": [],
   "source": [
    "# widspeed 풍속에 0 값이 가장 많다. => 잘못 기록된 데이터를 고쳐 줄 필요가 있음\n",
    "fig, axes = plt.subplots(nrows=2)\n",
    "fig.set_size_inches(18,10)\n",
    "\n",
    "plt.sca(axes[0])\n",
    "plt.xticks(rotation=30, ha='right')\n",
    "axes[0].set(ylabel='Count',title=\"train windspeed\")\n",
    "sns.countplot(data=train, x=\"windspeed\", ax=axes[0])\n",
    "\n",
    "plt.sca(axes[1])\n",
    "plt.xticks(rotation=30, ha='right')\n",
    "axes[1].set(ylabel='Count',title=\"test windspeed\")\n",
    "sns.countplot(data=test, x=\"windspeed\", ax=axes[1])"
   ]
  },
  {
   "cell_type": "markdown",
   "metadata": {},
   "source": [
    "## FEATURE SELECTION"
   ]
  },
  {
   "cell_type": "markdown",
   "metadata": {},
   "source": [
    "### 1번시도  - 0.33087\n",
    "- windspeed 안건드림\n",
    "- feature selection\n"
   ]
  },
  {
   "cell_type": "code",
   "execution_count": null,
   "metadata": {},
   "outputs": [],
   "source": [
    "#연속형  범주형\n",
    "# 연속형 feature = [\"temp\",\"humidity\",\"windspeed\",\"atemp\"]\n",
    "# 범주형 feature의 type을 category로 변경 해 준다.\n",
    "\n",
    "categorical_feature_names =['season','holiday','workingday','weather',\n",
    "                           'dayofweek','month','year','hour']\n",
    "for var in categorical_feature_names:\n",
    "    train[var] = train[var].astype('category')\n",
    "    test[var] = test[var].astype(\"category\")\n",
    "\n",
    "feature_names = [\"season\", \"weather\", \"temp\", \"atemp\", \"humidity\", \"windspeed\",\n",
    "                 \"year\", \"hour\", \"dayofweek\", \"holiday\", \"workingday\"]\n",
    "\n",
    "feature_names\n",
    "\n",
    "X_train = train[feature_names]\n",
    "\n",
    "print(X_train.shape)\n",
    "X_train.head()\n",
    "\n",
    "\n",
    "X_test = test[feature_names]\n",
    "\n",
    "print(X_test.shape)\n",
    "X_test.head()\n",
    "\n",
    "\n",
    "label_name = \"count\"\n",
    "\n",
    "y_train = train[label_name]\n",
    "\n",
    "print(y_train.shape)\n",
    "y_train.head()\n",
    "\n",
    "\n",
    "y_train"
   ]
  },
  {
   "cell_type": "markdown",
   "metadata": {},
   "source": [
    "## rmsle"
   ]
  },
  {
   "cell_type": "code",
   "execution_count": null,
   "metadata": {},
   "outputs": [],
   "source": [
    "from sklearn.metrics import make_scorer\n",
    "\n",
    "def rmsle(predicted_values, actual_values):\n",
    "    # 넘파이로 배열 형태로 바꿔준다.\n",
    "    predicted_values = np.array(predicted_values)\n",
    "    actual_values = np.array(actual_values)\n",
    "    \n",
    "    # 예측값과 실제 값에 1을 더하고 로그를 씌워준다.\n",
    "    log_predict = np.log(predicted_values + 1)\n",
    "    log_actual = np.log(actual_values + 1)\n",
    "    \n",
    "    # 위에서 계산한 예측값에서 실제값을 빼주고 제곱을 해준다.\n",
    "    difference = log_predict - log_actual\n",
    "    # difference = (log_predict - log_actual) ** 2\n",
    "    difference = np.square(difference)\n",
    "    \n",
    "    # 평균을 낸다.\n",
    "    mean_difference = difference.mean()\n",
    "    \n",
    "    # 다시 루트를 씌운다.\n",
    "    score = np.sqrt(mean_difference)\n",
    "    \n",
    "    return score\n",
    "\n",
    "rmsle_scorer = make_scorer(rmsle)\n",
    "rmsle_scorer\n"
   ]
  },
  {
   "cell_type": "markdown",
   "metadata": {},
   "source": [
    "## cross validaiton"
   ]
  },
  {
   "cell_type": "code",
   "execution_count": null,
   "metadata": {},
   "outputs": [],
   "source": [
    "from sklearn.model_selection import KFold\n",
    "from sklearn.model_selection import cross_val_score\n",
    "\n",
    "k_fold = KFold(n_splits=10, shuffle=True, random_state=0)\n"
   ]
  },
  {
   "cell_type": "code",
   "execution_count": null,
   "metadata": {},
   "outputs": [],
   "source": []
  },
  {
   "cell_type": "markdown",
   "metadata": {},
   "source": [
    "# Random forest"
   ]
  },
  {
   "cell_type": "markdown",
   "metadata": {},
   "source": [
    "## 1번시도 -0.33087"
   ]
  },
  {
   "cell_type": "code",
   "execution_count": null,
   "metadata": {},
   "outputs": [],
   "source": [
    "#연속형  범주형\n",
    "# 연속형 feature = [\"temp\",\"humidity\",\"windspeed\",\"atemp\"]\n",
    "# 범주형 feature의 type을 category로 변경 해 준다.\n",
    "\n",
    "categorical_feature_names =['season','holiday','workingday','weather',\n",
    "                           'dayofweek','month','year','hour']\n",
    "for var in categorical_feature_names:\n",
    "    train[var] = train[var].astype('category')\n",
    "    test[var] = test[var].astype(\"category\")"
   ]
  },
  {
   "cell_type": "code",
   "execution_count": null,
   "metadata": {},
   "outputs": [],
   "source": [
    "    \n",
    "    ########변수 선택################################################\n",
    "    \n",
    "    \n",
    "feature_names = [\"season\", \"weather\", \"temp\", \"atemp\", \"humidity\", \"windspeed\",\n",
    "                 \"year\", \"hour\", \"dayofweek\", \"holiday\", \"workingday\"]\n",
    "\n",
    "feature_names\n",
    "\n",
    "X_train = train[feature_names]\n",
    "\n",
    "print(X_train.shape)\n",
    "X_train.head()\n",
    "\n",
    "\n",
    "X_test = test[feature_names]\n",
    "\n",
    "print(X_test.shape)\n",
    "X_test.head()\n",
    "\n",
    "\n",
    "label_name = \"count\"\n",
    "\n",
    "y_train = train[label_name]\n",
    "\n",
    "print(y_train.shape)\n",
    "y_train.head()\n",
    "\n",
    "\n",
    "y_train"
   ]
  },
  {
   "cell_type": "code",
   "execution_count": null,
   "metadata": {},
   "outputs": [],
   "source": [
    "from sklearn.ensemble import RandomForestRegressor\n",
    "\n",
    "max_depth_list = []\n",
    "\n",
    "model = RandomForestRegressor(n_estimators=100,\n",
    "                              n_jobs=-1,\n",
    "                              random_state=0)\n",
    "model"
   ]
  },
  {
   "cell_type": "code",
   "execution_count": null,
   "metadata": {},
   "outputs": [],
   "source": [
    "%time score = cross_val_score(model, X_train, y_train, cv=k_fold, scoring=rmsle_scorer)\n",
    "score = score.mean()\n",
    "# 0에 근접할수록 좋은 데이터\n",
    "print(\"Score= {0:.5f}\".format(score))"
   ]
  },
  {
   "cell_type": "code",
   "execution_count": null,
   "metadata": {},
   "outputs": [],
   "source": [
    "### train"
   ]
  },
  {
   "cell_type": "code",
   "execution_count": null,
   "metadata": {},
   "outputs": [],
   "source": [
    "# 학습시킴, 피팅(옷을 맞출 때 사용하는 피팅을 생각함) - 피처와 레이블을 넣어주면 알아서 학습을 함\n",
    "model.fit(X_train, y_train)"
   ]
  },
  {
   "cell_type": "code",
   "execution_count": null,
   "metadata": {},
   "outputs": [],
   "source": [
    "### predict"
   ]
  },
  {
   "cell_type": "code",
   "execution_count": null,
   "metadata": {},
   "outputs": [],
   "source": [
    "predictions = model.predict(X_test)\n",
    "\n",
    "print(predictions.shape)\n",
    "predictions[0:10]"
   ]
  },
  {
   "cell_type": "markdown",
   "metadata": {},
   "source": [
    "### 시각화"
   ]
  },
  {
   "cell_type": "code",
   "execution_count": null,
   "metadata": {
    "scrolled": true
   },
   "outputs": [],
   "source": [
    "# 예측한 데이터를 시각화 해본다. \n",
    "fig,(ax1,ax2)= plt.subplots(ncols=2)\n",
    "fig.set_size_inches(12,5)\n",
    "sns.distplot(y_train,ax=ax1,bins=50)\n",
    "ax1.set(title=\"train\")\n",
    "sns.distplot(predictions,ax=ax2,bins=50)\n",
    "ax2.set(title=\"test\")\n",
    "\n",
    "plt.savefig('./predict1')"
   ]
  },
  {
   "cell_type": "markdown",
   "metadata": {},
   "source": [
    "### SUubmit -0.41831"
   ]
  },
  {
   "cell_type": "code",
   "execution_count": null,
   "metadata": {},
   "outputs": [],
   "source": [
    "submission = pd.read_csv(\"./sampleSubmission.csv\")\n",
    "submission\n",
    "\n",
    "submission[\"count\"] = predictions\n",
    "\n",
    "print(submission.shape)\n",
    "submission.head()\n",
    "\n",
    "submission.to_csv(\"./Score_{0:.5f}_1st_submission.csv\".format(score), index=False)\n"
   ]
  },
  {
   "cell_type": "markdown",
   "metadata": {},
   "source": [
    "## 2번시도 - 0.33339\n",
    "\n",
    "변수 8개\n",
    "- atemp 제거\n",
    "- windspeed 제거 - heatmap 0.013\n",
    "- working day 제거 : dayofweek이 대변해줌"
   ]
  },
  {
   "cell_type": "code",
   "execution_count": null,
   "metadata": {},
   "outputs": [],
   "source": [
    "train = pd.read_csv('./train.csv',parse_dates =['datetime'])\n",
    "train.shape\n",
    "\n",
    "\n",
    "\n",
    "test = pd.read_csv('./test.csv',parse_dates=['datetime'])\n",
    "test.shape\n",
    "\n",
    "train[\"year\"] = train[\"datetime\"].dt.year\n",
    "train[\"month\"] = train[\"datetime\"].dt.month\n",
    "train[\"day\"] = train[\"datetime\"].dt.day\n",
    "train[\"hour\"] = train[\"datetime\"].dt.hour\n",
    "train[\"minute\"] = train[\"datetime\"].dt.minute\n",
    "train[\"second\"] = train[\"datetime\"].dt.second\n",
    "train[\"dayofweek\"] = train[\"datetime\"].dt.dayofweek\n",
    "train.shape\n",
    "\n",
    "\n",
    "test[\"year\"] = test[\"datetime\"].dt.year\n",
    "test[\"month\"] = test[\"datetime\"].dt.month\n",
    "test[\"day\"] = test[\"datetime\"].dt.day\n",
    "test[\"hour\"] = test[\"datetime\"].dt.hour\n",
    "test[\"minute\"] = test[\"datetime\"].dt.minute\n",
    "test[\"second\"] = test[\"datetime\"].dt.second\n",
    "test[\"dayofweek\"] = test[\"datetime\"].dt.dayofweek\n",
    "test.shape\n",
    "\n",
    "trainWithoutOutliers = train[np.abs(train['count'] - train['count'].mean()) <= (3*train['count'].std())]\n",
    "\n",
    "print(train.shape)\n",
    "print(trainWithoutOutliers.shape)\n",
    "\n",
    "#ㅇ이상치 147개 제거"
   ]
  },
  {
   "cell_type": "code",
   "execution_count": null,
   "metadata": {},
   "outputs": [],
   "source": [
    "feature_names2 = [\"season\", \"weather\", \"temp\", \"humidity\", \"year\", \"hour\", \"dayofweek\", \"holiday\"]\n"
   ]
  },
  {
   "cell_type": "code",
   "execution_count": null,
   "metadata": {},
   "outputs": [],
   "source": [
    "X_train2= trainWithoutOutliers[feature_names2]"
   ]
  },
  {
   "cell_type": "code",
   "execution_count": null,
   "metadata": {},
   "outputs": [],
   "source": [
    "X_train2"
   ]
  },
  {
   "cell_type": "code",
   "execution_count": null,
   "metadata": {},
   "outputs": [],
   "source": [
    "X_test2 = test[feature_names2]\n",
    "\n",
    "print(X_test2.shape)\n",
    "X_test2.head()"
   ]
  },
  {
   "cell_type": "code",
   "execution_count": null,
   "metadata": {},
   "outputs": [],
   "source": [
    "label_name = \"count\"\n",
    "\n",
    "y_train2 = trainWithoutOutliers[label_name]\n",
    "\n",
    "print(y_train2.shape)\n",
    "y_train2.head()\n"
   ]
  },
  {
   "cell_type": "code",
   "execution_count": null,
   "metadata": {},
   "outputs": [],
   "source": [
    "from sklearn.ensemble import RandomForestRegressor\n",
    "\n",
    "max_depth_list = []\n",
    "\n",
    "model = RandomForestRegressor(n_estimators=100,\n",
    "                              n_jobs=-1,\n",
    "                              random_state=0)\n",
    "model"
   ]
  },
  {
   "cell_type": "code",
   "execution_count": null,
   "metadata": {},
   "outputs": [],
   "source": [
    "%time score = cross_val_score(model, X_train2, y_train2, cv=k_fold, scoring=rmsle_scorer)\n",
    "score = score.mean()\n",
    "# 0에 근접할수록 좋은 데이터\n",
    "print(\"Score= {0:.5f}\".format(score))"
   ]
  },
  {
   "cell_type": "markdown",
   "metadata": {},
   "source": [
    "### train"
   ]
  },
  {
   "cell_type": "code",
   "execution_count": null,
   "metadata": {},
   "outputs": [],
   "source": [
    "# 학습시킴, 피팅(옷을 맞출 때 사용하는 피팅을 생각함) - 피처와 레이블을 넣어주면 알아서 학습을 함\n",
    "model.fit(X_train2, y_train2)"
   ]
  },
  {
   "cell_type": "markdown",
   "metadata": {},
   "source": [
    "### predict"
   ]
  },
  {
   "cell_type": "code",
   "execution_count": null,
   "metadata": {},
   "outputs": [],
   "source": [
    "predictions2 = model.predict(X_test2)\n",
    "\n",
    "print(predictions2.shape)\n",
    "predictions2[0:10]"
   ]
  },
  {
   "cell_type": "markdown",
   "metadata": {},
   "source": [
    "### 시각화"
   ]
  },
  {
   "cell_type": "code",
   "execution_count": null,
   "metadata": {
    "scrolled": true
   },
   "outputs": [],
   "source": [
    "# 예측한 데이터를 시각화 해본다. \n",
    "fig,(ax1,ax2)= plt.subplots(ncols=2)\n",
    "fig.set_size_inches(12,5)\n",
    "sns.distplot(y_train2,ax=ax1,bins=50)\n",
    "ax1.set(title=\"train2\")\n",
    "sns.distplot(predictions2,ax=ax2,bins=50)\n",
    "ax2.set(title=\"test2\")\n",
    "plt.savefig('./predict2')"
   ]
  },
  {
   "cell_type": "markdown",
   "metadata": {},
   "source": [
    " ### submit 0.42598"
   ]
  },
  {
   "cell_type": "code",
   "execution_count": null,
   "metadata": {},
   "outputs": [],
   "source": [
    "submission2 = pd.read_csv(\"./sampleSubmission.csv\")\n",
    "submission2\n",
    "\n",
    "submission2[\"count\"] = predictions2\n",
    "\n",
    "print(submission2.shape)\n",
    "submission2.head()\n",
    "\n",
    "submission2.to_csv(\"./Score_{0:.5f}_2nd_submission.csv\".format(score), index=False)\n"
   ]
  },
  {
   "cell_type": "markdown",
   "metadata": {},
   "source": [
    "## 3번시도 -0.33081\n",
    "- windspeed ml 돌리기 \n",
    "- 전체변수   and 2번시도 변수"
   ]
  },
  {
   "cell_type": "code",
   "execution_count": null,
   "metadata": {},
   "outputs": [],
   "source": []
  },
  {
   "cell_type": "markdown",
   "metadata": {},
   "source": [
    "### windspeed ml"
   ]
  },
  {
   "cell_type": "code",
   "execution_count": null,
   "metadata": {},
   "outputs": [],
   "source": [
    "train = pd.read_csv('./train.csv',parse_dates =['datetime'])\n",
    "train.shape\n",
    "\n",
    "\n",
    "\n",
    "test = pd.read_csv('./test.csv',parse_dates=['datetime'])\n",
    "test.shape\n",
    "\n",
    "train[\"year\"] = train[\"datetime\"].dt.year\n",
    "train[\"month\"] = train[\"datetime\"].dt.month\n",
    "train[\"day\"] = train[\"datetime\"].dt.day\n",
    "train[\"hour\"] = train[\"datetime\"].dt.hour\n",
    "train[\"minute\"] = train[\"datetime\"].dt.minute\n",
    "train[\"second\"] = train[\"datetime\"].dt.second\n",
    "train[\"dayofweek\"] = train[\"datetime\"].dt.dayofweek\n",
    "train.shape\n",
    "\n",
    "\n",
    "test[\"year\"] = test[\"datetime\"].dt.year\n",
    "test[\"month\"] = test[\"datetime\"].dt.month\n",
    "test[\"day\"] = test[\"datetime\"].dt.day\n",
    "test[\"hour\"] = test[\"datetime\"].dt.hour\n",
    "test[\"minute\"] = test[\"datetime\"].dt.minute\n",
    "test[\"second\"] = test[\"datetime\"].dt.second\n",
    "test[\"dayofweek\"] = test[\"datetime\"].dt.dayofweek\n",
    "test.shape\n",
    "\n",
    "trainWithoutOutliers = train[np.abs(train['count'] - train['count'].mean()) <= (3*train['count'].std())]\n",
    "\n",
    "print(train.shape)\n",
    "print(trainWithoutOutliers.shape)\n",
    "\n",
    "#ㅇ이상치 147개 제거"
   ]
  },
  {
   "cell_type": "markdown",
   "metadata": {},
   "source": [
    "### 분리"
   ]
  },
  {
   "cell_type": "code",
   "execution_count": null,
   "metadata": {},
   "outputs": [],
   "source": [
    "from sklearn.ensemble import RandomForestRegressor\n",
    "\n",
    "windspeed_0 = trainWithoutOutliers[trainWithoutOutliers.windspeed ==0]\n",
    "windspeed_Not0 = trainWithoutOutliers[trainWithoutOutliers.windspeed !=0]\n",
    "\n",
    "#도출해야할 x\n",
    "windspeed_0_df = windspeed_0.drop(['windspeed','casual','registered',\n",
    "                                   'count','datetime'],axis=1)\n",
    "\n",
    "\n",
    "#학습하는 x\n",
    "windspeed_Not0_df = windspeed_Not0.drop(['windspeed','casual','registered',\n",
    "                                        'count','datetime'],axis=1)\n",
    "#학습하는 y\n",
    "windspeed_Not0_series = windspeed_Not0['windspeed']\n",
    "\n"
   ]
  },
  {
   "cell_type": "markdown",
   "metadata": {},
   "source": [
    "### 예측"
   ]
  },
  {
   "cell_type": "code",
   "execution_count": null,
   "metadata": {
    "scrolled": true
   },
   "outputs": [],
   "source": [
    "rf =RandomForestRegressor()\n",
    "rf.fit(windspeed_Not0_df,windspeed_Not0_series)\n",
    "\n",
    "predicted_windspeed_0 = rf.predict(windspeed_0_df)\n",
    "\n",
    "\n",
    "#예측한값 원래에 대입\n",
    "windspeed_0['windspeed']= predicted_windspeed_0"
   ]
  },
  {
   "cell_type": "code",
   "execution_count": null,
   "metadata": {},
   "outputs": [],
   "source": [
    "train = pd.concat([windspeed_0,windspeed_Not0],axis=0)"
   ]
  },
  {
   "cell_type": "markdown",
   "metadata": {},
   "source": [
    "### heat map"
   ]
  },
  {
   "cell_type": "code",
   "execution_count": null,
   "metadata": {},
   "outputs": [],
   "source": [
    "fig = plt.figure(figsize=[20,20])\n",
    "ax= sns.heatmap(train.corr(),annot=True,square=True)\n",
    "\n",
    "plt.savefig('./windspeed heatmap')"
   ]
  },
  {
   "cell_type": "markdown",
   "metadata": {},
   "source": [
    "### test에 wind값 대입"
   ]
  },
  {
   "cell_type": "code",
   "execution_count": null,
   "metadata": {},
   "outputs": [],
   "source": [
    "windspeed_0 = test[test.windspeed ==0]\n",
    "windspeed_Not0 = test[test.windspeed !=0]\n",
    "\n",
    "#도출해야할 x\n",
    "windspeed_0_df = windspeed_0.drop(['windspeed','datetime'],axis=1)\n",
    "\n",
    "\n",
    "#학습하는 x\n",
    "windspeed_Not0_df = windspeed_Not0.drop(['windspeed','datetime'],axis=1)\n",
    "#학습하는 y\n",
    "windspeed_Not0_series = windspeed_Not0['windspeed']\n",
    "\n",
    "rf =RandomForestRegressor()\n",
    "rf.fit(windspeed_Not0_df,windspeed_Not0_series)\n",
    "\n",
    "predicted_windspeed_0 = rf.predict(windspeed_0_df)\n",
    "\n",
    "\n",
    "#예측한값 원래에 대입\n",
    "windspeed_0['windspeed']= predicted_windspeed_0\n",
    "\n",
    "test = pd.concat([windspeed_0,windspeed_Not0],axis=0)\n"
   ]
  },
  {
   "cell_type": "code",
   "execution_count": null,
   "metadata": {},
   "outputs": [],
   "source": [
    "test.head()"
   ]
  },
  {
   "cell_type": "markdown",
   "metadata": {},
   "source": [
    "### feature 선정"
   ]
  },
  {
   "cell_type": "code",
   "execution_count": null,
   "metadata": {
    "scrolled": true
   },
   "outputs": [],
   "source": [
    "train.head()"
   ]
  },
  {
   "cell_type": "code",
   "execution_count": null,
   "metadata": {},
   "outputs": [],
   "source": [
    "train.shape"
   ]
  },
  {
   "cell_type": "code",
   "execution_count": null,
   "metadata": {},
   "outputs": [],
   "source": [
    "categorical_feature_names =['season','holiday','workingday','weather',\n",
    "                           'dayofweek','month','year','hour']\n",
    "for var in categorical_feature_names:\n",
    "    train[var] = train[var].astype('category')\n",
    "    test[var] = test[var].astype(\"category\")\n"
   ]
  },
  {
   "cell_type": "code",
   "execution_count": null,
   "metadata": {},
   "outputs": [],
   "source": [
    "    \n",
    "feature_names3 = [\"season\", \"weather\", \"temp\", \"atemp\", \"humidity\", \"windspeed\",\n",
    "                 \"year\", \"hour\", \"dayofweek\", \"holiday\", \"workingday\"]\n"
   ]
  },
  {
   "cell_type": "code",
   "execution_count": null,
   "metadata": {},
   "outputs": [],
   "source": [
    "X_train3 = train[feature_names3]\n",
    "\n",
    "print(X_train3.shape)\n",
    "X_train3.head()\n"
   ]
  },
  {
   "cell_type": "code",
   "execution_count": null,
   "metadata": {},
   "outputs": [],
   "source": [
    "X_test3 = test[feature_names3]\n",
    "\n",
    "print(X_test3.shape)\n",
    "X_test3.head()\n",
    "\n"
   ]
  },
  {
   "cell_type": "code",
   "execution_count": null,
   "metadata": {},
   "outputs": [],
   "source": [
    "\n",
    "label_name = \"count\"\n",
    "\n",
    "y_train3 = train[label_name]\n",
    "\n",
    "print(y_train3.shape)\n",
    "y_train3.head()\n",
    "\n",
    "\n",
    "y_train3"
   ]
  },
  {
   "cell_type": "code",
   "execution_count": null,
   "metadata": {},
   "outputs": [],
   "source": [
    "from sklearn.ensemble import RandomForestRegressor\n",
    "\n",
    "max_depth_list = []\n",
    "\n",
    "model = RandomForestRegressor(n_estimators=100,\n",
    "                              n_jobs=-1,\n",
    "                              random_state=0)\n",
    "model\n"
   ]
  },
  {
   "cell_type": "markdown",
   "metadata": {},
   "source": [
    "### crossval"
   ]
  },
  {
   "cell_type": "code",
   "execution_count": null,
   "metadata": {},
   "outputs": [],
   "source": [
    "%time score = cross_val_score(model, X_train3, y_train3, cv=k_fold, scoring=rmsle_scorer)\n",
    "score = score.mean()\n",
    "# 0에 근접할수록 좋은 데이터\n",
    "print(\"Score= {0:.5f}\".format(score))\n"
   ]
  },
  {
   "cell_type": "code",
   "execution_count": null,
   "metadata": {},
   "outputs": [],
   "source": [
    "# 학습시킴, 피팅(옷을 맞출 때 사용하는 피팅을 생각함) - 피처와 레이블을 넣어주면 알아서 학습을 함\n",
    "model.fit(X_train3, y_train3)\n",
    "\n",
    "predictions3 = model.predict(X_test3)\n",
    "\n",
    "print(predictions3.shape)\n",
    "predictions3[0:10]\n"
   ]
  },
  {
   "cell_type": "code",
   "execution_count": null,
   "metadata": {},
   "outputs": [],
   "source": [
    "# 예측한 데이터를 시각화 해본다. \n",
    "fig,(ax1,ax2)= plt.subplots(ncols=2)\n",
    "fig.set_size_inches(12,5)\n",
    "sns.distplot(y_train3,ax=ax1,bins=50)\n",
    "ax1.set(title=\"train3\")\n",
    "sns.distplot(predictions3,ax=ax2,bins=50)\n",
    "ax2.set(title=\"test3\")\n",
    "\n",
    "plt.savefig('./predict3-1')\n",
    "\n"
   ]
  },
  {
   "cell_type": "markdown",
   "metadata": {},
   "source": [
    "### 3rd submission -1.90105"
   ]
  },
  {
   "cell_type": "code",
   "execution_count": null,
   "metadata": {},
   "outputs": [],
   "source": [
    "submission3 = pd.read_csv(\"./sampleSubmission.csv\")\n",
    "submission3\n",
    "\n",
    "submission3[\"count\"] = predictions3\n",
    "\n",
    "print(submission3.shape)\n",
    "submission3.head()\n",
    "\n",
    "submission3.to_csv(\"./Score_{0:.5f}_3rd-1_submission.csv\".format(score), index=False)\n"
   ]
  },
  {
   "cell_type": "markdown",
   "metadata": {},
   "source": [
    "## 4번시도\n",
    "\n",
    "- windspeed를 casual 과 registered 기반으로 "
   ]
  },
  {
   "cell_type": "code",
   "execution_count": null,
   "metadata": {},
   "outputs": [],
   "source": [
    "train = pd.read_csv('./train.csv',parse_dates =['datetime'])\n",
    "train.shape\n",
    "\n",
    "\n",
    "\n",
    "test = pd.read_csv('./test.csv',parse_dates=['datetime'])\n",
    "test.shape\n",
    "\n",
    "train[\"year\"] = train[\"datetime\"].dt.year\n",
    "train[\"month\"] = train[\"datetime\"].dt.month\n",
    "train[\"day\"] = train[\"datetime\"].dt.day\n",
    "train[\"hour\"] = train[\"datetime\"].dt.hour\n",
    "train[\"minute\"] = train[\"datetime\"].dt.minute\n",
    "train[\"second\"] = train[\"datetime\"].dt.second\n",
    "train[\"dayofweek\"] = train[\"datetime\"].dt.dayofweek\n",
    "train.shape\n",
    "\n",
    "\n",
    "test[\"year\"] = test[\"datetime\"].dt.year\n",
    "test[\"month\"] = test[\"datetime\"].dt.month\n",
    "test[\"day\"] = test[\"datetime\"].dt.day\n",
    "test[\"hour\"] = test[\"datetime\"].dt.hour\n",
    "test[\"minute\"] = test[\"datetime\"].dt.minute\n",
    "test[\"second\"] = test[\"datetime\"].dt.second\n",
    "test[\"dayofweek\"] = test[\"datetime\"].dt.dayofweek\n",
    "test.shape\n",
    "\n",
    "trainWithoutOutliers = train[np.abs(train['count'] - train['count'].mean()) <= (3*train['count'].std())]\n",
    "\n",
    "print(train.shape)\n",
    "print(trainWithoutOutliers.shape)\n",
    "\n",
    "#ㅇ이상치 147개 제거"
   ]
  },
  {
   "cell_type": "code",
   "execution_count": null,
   "metadata": {},
   "outputs": [],
   "source": [
    "train.shape()"
   ]
  },
  {
   "cell_type": "code",
   "execution_count": null,
   "metadata": {},
   "outputs": [],
   "source": []
  },
  {
   "cell_type": "code",
   "execution_count": null,
   "metadata": {},
   "outputs": [],
   "source": [
    "trainWithoutOutliers.iloc[1,:]"
   ]
  },
  {
   "cell_type": "code",
   "execution_count": null,
   "metadata": {},
   "outputs": [],
   "source": [
    "windspeed_0"
   ]
  },
  {
   "cell_type": "code",
   "execution_count": null,
   "metadata": {},
   "outputs": [],
   "source": [
    "from sklearn.ensemble import RandomForestRegressor\n",
    "\n",
    "windspeed_0 =trainWithoutOutliers[trainWithoutOutliers.windspeed ==0]\n",
    "windspeed_Not0 = trainWithoutOutliers[trainWithoutOutliers.windspeed != 0]\n",
    "\n",
    "windspeed_0_df = windspeed_0.drop(['datetime','season','holiday','workingday','weather',\n",
    "                                  'weather','weather','temp','atemp','humidity','windspeed','count',\n",
    "                                  'year','month','day','hour','minute','second','dayofweek'],axis=1)\n",
    "\n",
    "windspeed_Not0_df = windspeed_Not0.drop(['datetime','season','holiday','workingday','weather',\n",
    "                                  'weather','weather','temp','atemp','humidity','windspeed','count',\n",
    "                                  'year','month','day','hour','minute','second','dayofweek'],axis=1)\n",
    "\n",
    "windspeed_Not0_series = windspeed_Not0['windspeed']\n"
   ]
  },
  {
   "cell_type": "code",
   "execution_count": null,
   "metadata": {},
   "outputs": [],
   "source": [
    "rf = RandomForestRegressor()\n",
    "\n",
    "rf.fit(windspeed_Not0_df,windspeed_Not0_series)\n",
    "\n",
    "predicted_windspeed_0 = rf.predict(windspeed_0_df)"
   ]
  },
  {
   "cell_type": "code",
   "execution_count": null,
   "metadata": {},
   "outputs": [],
   "source": [
    "windspeed_0['windspeed']=predicted_windspeed_0"
   ]
  },
  {
   "cell_type": "code",
   "execution_count": null,
   "metadata": {},
   "outputs": [],
   "source": [
    "train = pd.concat([windspeed_0,windspeed_Not0],axis=0)\n",
    "\n",
    "fig = plt.figure(figsize=[20,20])\n",
    "ax = sns.heatmap(train.corr(),annot=True,square=True)\n",
    "\n",
    "plt.savefig('./images/countregis_windspeed')"
   ]
  },
  {
   "cell_type": "code",
   "execution_count": null,
   "metadata": {},
   "outputs": [],
   "source": [
    "feature_names4 = ['temp','humidity','year','hour','season','weather','windspeed','month']"
   ]
  },
  {
   "cell_type": "code",
   "execution_count": null,
   "metadata": {},
   "outputs": [],
   "source": [
    "X_train4 = trainWithoutOutliers[feature_names4]\n",
    "print(X_train4.shape)\n",
    "X_train4.head()"
   ]
  },
  {
   "cell_type": "code",
   "execution_count": null,
   "metadata": {},
   "outputs": [],
   "source": [
    "X_test4 =test[feature_names4]\n",
    "\n",
    "print(X_test4.shape)\n",
    "X_test4.head()\n"
   ]
  },
  {
   "cell_type": "code",
   "execution_count": null,
   "metadata": {},
   "outputs": [],
   "source": [
    "\n",
    "label_name = 'count'\n",
    "\n",
    "y_train4 = trainWithoutOutliers[label_name]\n",
    "print(y_train4.shape)\n",
    "y_train4.head()\n",
    "\n",
    "y_train4"
   ]
  },
  {
   "cell_type": "markdown",
   "metadata": {},
   "source": [
    "### modeling 0.61172"
   ]
  },
  {
   "cell_type": "code",
   "execution_count": null,
   "metadata": {},
   "outputs": [],
   "source": [
    "from sklearn.ensemble import RandomForestRegressor\n",
    "\n",
    "max_depth_list = []\n",
    "\n",
    "model = RandomForestRegressor(n_estimators=100,\n",
    "                              n_jobs=-1,\n",
    "                              random_state=0)\n",
    "model\n"
   ]
  },
  {
   "cell_type": "code",
   "execution_count": null,
   "metadata": {},
   "outputs": [],
   "source": [
    "%time score = cross_val_score(model, X_train4, y_train4, cv=k_fold, scoring=rmsle_scorer)\n",
    "score = score.mean()\n",
    "# 0에 근접할수록 좋은 데이터\n",
    "print(\"Score= {0:.5f}\".format(score))\n"
   ]
  },
  {
   "cell_type": "code",
   "execution_count": null,
   "metadata": {},
   "outputs": [],
   "source": [
    "# 학습시킴, 피팅(옷을 맞출 때 사용하는 피팅을 생각함) - 피처와 레이블을 넣어주면 알아서 학습을 함\n",
    "model.fit(X_train4, y_train4)\n",
    "\n",
    "predictions4 = model.predict(X_test4)\n",
    "\n",
    "print(predictions4.shape)\n",
    "predictions4[0:10]\n"
   ]
  },
  {
   "cell_type": "code",
   "execution_count": null,
   "metadata": {},
   "outputs": [],
   "source": [
    "# 예측한 데이터를 시각화 해본다. \n",
    "fig,(ax1,ax2)= plt.subplots(ncols=2)\n",
    "fig.set_size_inches(12,5)\n",
    "sns.distplot(y_train4,ax=ax1,bins=50)\n",
    "ax1.set(title=\"train4\")\n",
    "sns.distplot(predictions4,ax=ax2,bins=50)\n",
    "ax2.set(title=\"test4\")\n",
    "\n",
    "plt.savefig('./predict4')\n"
   ]
  },
  {
   "cell_type": "code",
   "execution_count": null,
   "metadata": {},
   "outputs": [],
   "source": []
  },
  {
   "cell_type": "markdown",
   "metadata": {},
   "source": [
    "## 5번- 0.68060"
   ]
  },
  {
   "cell_type": "code",
   "execution_count": null,
   "metadata": {},
   "outputs": [],
   "source": [
    "train = pd.read_csv('./train.csv',parse_dates =['datetime'])\n",
    "train.shape\n",
    "\n",
    "\n",
    "\n",
    "test = pd.read_csv('./test.csv',parse_dates=['datetime'])\n",
    "test.shape\n",
    "\n",
    "train[\"year\"] = train[\"datetime\"].dt.year\n",
    "train[\"month\"] = train[\"datetime\"].dt.month\n",
    "train[\"day\"] = train[\"datetime\"].dt.day\n",
    "train[\"hour\"] = train[\"datetime\"].dt.hour\n",
    "train[\"minute\"] = train[\"datetime\"].dt.minute\n",
    "train[\"second\"] = train[\"datetime\"].dt.second\n",
    "train[\"dayofweek\"] = train[\"datetime\"].dt.dayofweek\n",
    "train.shape\n",
    "\n",
    "\n",
    "test[\"year\"] = test[\"datetime\"].dt.year\n",
    "test[\"month\"] = test[\"datetime\"].dt.month\n",
    "test[\"day\"] = test[\"datetime\"].dt.day\n",
    "test[\"hour\"] = test[\"datetime\"].dt.hour\n",
    "test[\"minute\"] = test[\"datetime\"].dt.minute\n",
    "test[\"second\"] = test[\"datetime\"].dt.second\n",
    "test[\"dayofweek\"] = test[\"datetime\"].dt.dayofweek\n",
    "test.shape\n",
    "\n",
    "trainWithoutOutliers = train[np.abs(train['count'] - train['count'].mean()) <= (3*train['count'].std())]\n",
    "\n",
    "print(train.shape)\n",
    "print(trainWithoutOutliers.shape)\n",
    "\n",
    "#ㅇ이상치 147개 제거"
   ]
  },
  {
   "cell_type": "code",
   "execution_count": null,
   "metadata": {},
   "outputs": [],
   "source": [
    "feature_names5=['temp','humidity','year','hour']\n"
   ]
  },
  {
   "cell_type": "code",
   "execution_count": null,
   "metadata": {},
   "outputs": [],
   "source": [
    "X_train5 = trainWithoutOutliers[feature_names5]\n",
    "\n",
    "print(X_train5.shape)\n",
    "\n",
    "X_train5.head()"
   ]
  },
  {
   "cell_type": "code",
   "execution_count": null,
   "metadata": {},
   "outputs": [],
   "source": [
    "X_test5 = test[feature_names5]\n",
    "\n",
    "X_test5.shape"
   ]
  },
  {
   "cell_type": "code",
   "execution_count": null,
   "metadata": {},
   "outputs": [],
   "source": [
    "label_name = 'count'\n",
    "\n",
    "y_train5 = trainWithoutOutliers[label_name]"
   ]
  },
  {
   "cell_type": "code",
   "execution_count": null,
   "metadata": {},
   "outputs": [],
   "source": [
    "\n",
    "from sklearn.ensemble import RandomForestRegressor\n",
    "\n",
    "max_depth_list = []\n",
    "\n",
    "model = RandomForestRegressor(n_estimators=100,\n",
    "                              n_jobs=-1,\n",
    "                              random_state=0)\n",
    "model\n"
   ]
  },
  {
   "cell_type": "code",
   "execution_count": null,
   "metadata": {},
   "outputs": [],
   "source": [
    "\n",
    "%time score = cross_val_score(model, X_train5, y_train5, cv=k_fold, scoring=rmsle_scorer)\n",
    "score = score.mean()\n",
    "# 0에 근접할수록 좋은 데이터\n",
    "print(\"Score= {0:.5f}\".format(score))\n"
   ]
  },
  {
   "cell_type": "code",
   "execution_count": null,
   "metadata": {},
   "outputs": [],
   "source": [
    "model.fit(X_train5,y_train5)\n",
    "\n",
    "predictions5 = model.predict(X_test5)\n",
    "\n"
   ]
  },
  {
   "cell_type": "markdown",
   "metadata": {},
   "source": [
    "# 6번째 casual / registered"
   ]
  },
  {
   "cell_type": "code",
   "execution_count": null,
   "metadata": {},
   "outputs": [],
   "source": [
    "import pandas as pd\n",
    "import numpy as np\n",
    "\n",
    "import matplotlib as mpl\n",
    "import matplotlib.pyplot as plt\n",
    "import seaborn as sns\n",
    "from sklearn.ensemble import RandomForestRegressor\n",
    "\n",
    "# 노트북 안에 그래프를 그리기 위해\n",
    "%matplotlib inline\n",
    "\n",
    "# 그래프에서 격자로 숫자 범위가 눈에 잘 띄도록 ggplot 스타일을 사용\n",
    "plt.style.use('ggplot')\n",
    "\n",
    "# 그래프에서 마이너스 폰트 깨지는 문제에 대한 대처\n",
    "mpl.rcParams['axes.unicode_minus'] = False\n",
    "\n",
    "import warnings\n",
    "warnings.filterwarnings('ignore')"
   ]
  },
  {
   "cell_type": "code",
   "execution_count": null,
   "metadata": {},
   "outputs": [],
   "source": [
    "train = pd.read_csv('./train.csv',parse_dates=['datetime'])\n",
    "test = pd.read_csv('./test.csv',parse_dates=['datetime'])"
   ]
  },
  {
   "cell_type": "code",
   "execution_count": null,
   "metadata": {},
   "outputs": [],
   "source": [
    "train['year'] = train['datetime'].dt.year\n",
    "train['month'] = train['datetime'].dt.month\n",
    "train['hour'] = train['datetime'].dt.hour\n",
    "train['dayofweek'] = train['datetime'].dt.dayofweek\n"
   ]
  },
  {
   "cell_type": "code",
   "execution_count": null,
   "metadata": {},
   "outputs": [],
   "source": [
    "test['year'] = test['datetime'].dt.year\n",
    "test['month'] = test['datetime'].dt.month\n",
    "test['hour'] = test['datetime'].dt.hour\n",
    "test['dayofweek'] = test['datetime'].dt.dayofweek\n",
    "test.shape\n"
   ]
  },
  {
   "cell_type": "code",
   "execution_count": null,
   "metadata": {},
   "outputs": [],
   "source": [
    "rfModel_wind = RandomForestRegressor()\n",
    "f_columns = ['season','weather','humidity','month','temp','year','hour','dayofweek','atemp']\n",
    "X_train = train[f_columns]\n",
    "y_r_label = train['registered']\n",
    "y_c_label = train['casual']\n",
    "print(X_train.shape)\n",
    "print(y_r_label.shape)\n",
    "print(y_c_label.shape)"
   ]
  },
  {
   "cell_type": "code",
   "execution_count": null,
   "metadata": {},
   "outputs": [],
   "source": [
    "X_test = test[f_columns]\n",
    "X_test.shape\n"
   ]
  },
  {
   "cell_type": "markdown",
   "metadata": {},
   "source": [
    "## registered 예측"
   ]
  },
  {
   "cell_type": "code",
   "execution_count": null,
   "metadata": {},
   "outputs": [],
   "source": [
    "rfModel = RandomForestRegressor()\n",
    "rfModel.fit(X_train, y_r_label)\n"
   ]
  },
  {
   "cell_type": "code",
   "execution_count": null,
   "metadata": {},
   "outputs": [],
   "source": [
    "testRegisteredValues = rfModel.predict(X_test)\n"
   ]
  },
  {
   "cell_type": "code",
   "execution_count": null,
   "metadata": {},
   "outputs": [],
   "source": [
    "test['registered'] = testRegisteredValues\n",
    "test['registered']"
   ]
  },
  {
   "cell_type": "markdown",
   "metadata": {},
   "source": [
    "## casual 예측"
   ]
  },
  {
   "cell_type": "code",
   "execution_count": null,
   "metadata": {},
   "outputs": [],
   "source": [
    "rfModel.fit(X_train,y_c_label)"
   ]
  },
  {
   "cell_type": "code",
   "execution_count": null,
   "metadata": {},
   "outputs": [],
   "source": [
    "testCasualValues = rfModel.predict(X_test)\n",
    "test['casual'] =testCasualValues\n",
    "test['casual']"
   ]
  },
  {
   "cell_type": "markdown",
   "metadata": {},
   "source": [
    "## count 생성"
   ]
  },
  {
   "cell_type": "code",
   "execution_count": null,
   "metadata": {},
   "outputs": [],
   "source": [
    "test['count'] = test['casual']+test['registered']"
   ]
  },
  {
   "cell_type": "code",
   "execution_count": null,
   "metadata": {},
   "outputs": [],
   "source": [
    "test['count']=test['count'].round(0)"
   ]
  },
  {
   "cell_type": "code",
   "execution_count": null,
   "metadata": {},
   "outputs": [],
   "source": [
    "test['count'] = pd.to_numeric(test['count'])"
   ]
  },
  {
   "cell_type": "code",
   "execution_count": null,
   "metadata": {},
   "outputs": [],
   "source": [
    "test['count'] = test['count'].astype('int64')"
   ]
  },
  {
   "cell_type": "code",
   "execution_count": null,
   "metadata": {
    "scrolled": true
   },
   "outputs": [],
   "source": [
    "test.info()"
   ]
  },
  {
   "cell_type": "code",
   "execution_count": null,
   "metadata": {
    "scrolled": true
   },
   "outputs": [],
   "source": [
    "test['count']"
   ]
  },
  {
   "cell_type": "code",
   "execution_count": null,
   "metadata": {},
   "outputs": [],
   "source": [
    "test6 = test.drop(['count'],axis=1)"
   ]
  },
  {
   "cell_type": "code",
   "execution_count": null,
   "metadata": {},
   "outputs": [],
   "source": [
    "test6.head()"
   ]
  },
  {
   "cell_type": "markdown",
   "metadata": {},
   "source": [
    "## sub - kaggle 0.48366"
   ]
  },
  {
   "cell_type": "code",
   "execution_count": null,
   "metadata": {},
   "outputs": [],
   "source": [
    "submission6 = pd.read_csv(\"./sampleSubmission.csv\")\n",
    "submission6\n",
    "\n",
    "submission6[\"count\"] = test['count']\n",
    "\n",
    "print(submission6.shape)\n",
    "submission6.head()\n",
    "\n",
    "submission3.to_csv(\"./Score_{0:.5f}_6th_submission.csv\".format(score), index=False)\n"
   ]
  },
  {
   "cell_type": "code",
   "execution_count": null,
   "metadata": {},
   "outputs": [],
   "source": [
    "fig = plt.figure(figsize=[20,20])\n",
    "ax= sns.heatmap(test6.corr(),annot=True,square=True)\n",
    "\n",
    "plt.savefig('./test6 heatmap')"
   ]
  },
  {
   "cell_type": "markdown",
   "metadata": {},
   "source": [
    "# 7 최적화 -> 1번쨰거로 =0.9786969904386712"
   ]
  },
  {
   "cell_type": "code",
   "execution_count": 2,
   "metadata": {},
   "outputs": [
    {
     "data": {
      "text/plain": [
       "(6493, 16)"
      ]
     },
     "execution_count": 2,
     "metadata": {},
     "output_type": "execute_result"
    }
   ],
   "source": [
    "train = pd.read_csv('./train.csv',parse_dates =['datetime'])\n",
    "train.shape\n",
    "\n",
    "test = pd.read_csv('./test.csv',parse_dates=['datetime'])\n",
    "test.shape\n",
    "\n",
    "train[\"year\"] = train[\"datetime\"].dt.year\n",
    "train[\"month\"] = train[\"datetime\"].dt.month\n",
    "train[\"day\"] = train[\"datetime\"].dt.day\n",
    "train[\"hour\"] = train[\"datetime\"].dt.hour\n",
    "train[\"minute\"] = train[\"datetime\"].dt.minute\n",
    "train[\"second\"] = train[\"datetime\"].dt.second\n",
    "train[\"dayofweek\"] = train[\"datetime\"].dt.dayofweek\n",
    "train.shape\n",
    "\n",
    "\n",
    "test[\"year\"] = test[\"datetime\"].dt.year\n",
    "test[\"month\"] = test[\"datetime\"].dt.month\n",
    "test[\"day\"] = test[\"datetime\"].dt.day\n",
    "test[\"hour\"] = test[\"datetime\"].dt.hour\n",
    "test[\"minute\"] = test[\"datetime\"].dt.minute\n",
    "test[\"second\"] = test[\"datetime\"].dt.second\n",
    "test[\"dayofweek\"] = test[\"datetime\"].dt.dayofweek\n",
    "test.shape"
   ]
  },
  {
   "cell_type": "code",
   "execution_count": 3,
   "metadata": {},
   "outputs": [
    {
     "data": {
      "text/html": [
       "<div>\n",
       "<style scoped>\n",
       "    .dataframe tbody tr th:only-of-type {\n",
       "        vertical-align: middle;\n",
       "    }\n",
       "\n",
       "    .dataframe tbody tr th {\n",
       "        vertical-align: top;\n",
       "    }\n",
       "\n",
       "    .dataframe thead th {\n",
       "        text-align: right;\n",
       "    }\n",
       "</style>\n",
       "<table border=\"1\" class=\"dataframe\">\n",
       "  <thead>\n",
       "    <tr style=\"text-align: right;\">\n",
       "      <th></th>\n",
       "      <th>datetime</th>\n",
       "      <th>season</th>\n",
       "      <th>holiday</th>\n",
       "      <th>workingday</th>\n",
       "      <th>weather</th>\n",
       "      <th>temp</th>\n",
       "      <th>atemp</th>\n",
       "      <th>humidity</th>\n",
       "      <th>windspeed</th>\n",
       "      <th>casual</th>\n",
       "      <th>registered</th>\n",
       "      <th>count</th>\n",
       "      <th>year</th>\n",
       "      <th>month</th>\n",
       "      <th>day</th>\n",
       "      <th>hour</th>\n",
       "      <th>minute</th>\n",
       "      <th>second</th>\n",
       "      <th>dayofweek</th>\n",
       "    </tr>\n",
       "  </thead>\n",
       "  <tbody>\n",
       "    <tr>\n",
       "      <th>0</th>\n",
       "      <td>2011-01-01 00:00:00</td>\n",
       "      <td>1</td>\n",
       "      <td>0</td>\n",
       "      <td>0</td>\n",
       "      <td>1</td>\n",
       "      <td>9.84</td>\n",
       "      <td>14.395</td>\n",
       "      <td>81</td>\n",
       "      <td>0.0</td>\n",
       "      <td>3</td>\n",
       "      <td>13</td>\n",
       "      <td>16</td>\n",
       "      <td>2011</td>\n",
       "      <td>1</td>\n",
       "      <td>1</td>\n",
       "      <td>0</td>\n",
       "      <td>0</td>\n",
       "      <td>0</td>\n",
       "      <td>5</td>\n",
       "    </tr>\n",
       "    <tr>\n",
       "      <th>1</th>\n",
       "      <td>2011-01-01 01:00:00</td>\n",
       "      <td>1</td>\n",
       "      <td>0</td>\n",
       "      <td>0</td>\n",
       "      <td>1</td>\n",
       "      <td>9.02</td>\n",
       "      <td>13.635</td>\n",
       "      <td>80</td>\n",
       "      <td>0.0</td>\n",
       "      <td>8</td>\n",
       "      <td>32</td>\n",
       "      <td>40</td>\n",
       "      <td>2011</td>\n",
       "      <td>1</td>\n",
       "      <td>1</td>\n",
       "      <td>1</td>\n",
       "      <td>0</td>\n",
       "      <td>0</td>\n",
       "      <td>5</td>\n",
       "    </tr>\n",
       "    <tr>\n",
       "      <th>2</th>\n",
       "      <td>2011-01-01 02:00:00</td>\n",
       "      <td>1</td>\n",
       "      <td>0</td>\n",
       "      <td>0</td>\n",
       "      <td>1</td>\n",
       "      <td>9.02</td>\n",
       "      <td>13.635</td>\n",
       "      <td>80</td>\n",
       "      <td>0.0</td>\n",
       "      <td>5</td>\n",
       "      <td>27</td>\n",
       "      <td>32</td>\n",
       "      <td>2011</td>\n",
       "      <td>1</td>\n",
       "      <td>1</td>\n",
       "      <td>2</td>\n",
       "      <td>0</td>\n",
       "      <td>0</td>\n",
       "      <td>5</td>\n",
       "    </tr>\n",
       "    <tr>\n",
       "      <th>3</th>\n",
       "      <td>2011-01-01 03:00:00</td>\n",
       "      <td>1</td>\n",
       "      <td>0</td>\n",
       "      <td>0</td>\n",
       "      <td>1</td>\n",
       "      <td>9.84</td>\n",
       "      <td>14.395</td>\n",
       "      <td>75</td>\n",
       "      <td>0.0</td>\n",
       "      <td>3</td>\n",
       "      <td>10</td>\n",
       "      <td>13</td>\n",
       "      <td>2011</td>\n",
       "      <td>1</td>\n",
       "      <td>1</td>\n",
       "      <td>3</td>\n",
       "      <td>0</td>\n",
       "      <td>0</td>\n",
       "      <td>5</td>\n",
       "    </tr>\n",
       "    <tr>\n",
       "      <th>4</th>\n",
       "      <td>2011-01-01 04:00:00</td>\n",
       "      <td>1</td>\n",
       "      <td>0</td>\n",
       "      <td>0</td>\n",
       "      <td>1</td>\n",
       "      <td>9.84</td>\n",
       "      <td>14.395</td>\n",
       "      <td>75</td>\n",
       "      <td>0.0</td>\n",
       "      <td>0</td>\n",
       "      <td>1</td>\n",
       "      <td>1</td>\n",
       "      <td>2011</td>\n",
       "      <td>1</td>\n",
       "      <td>1</td>\n",
       "      <td>4</td>\n",
       "      <td>0</td>\n",
       "      <td>0</td>\n",
       "      <td>5</td>\n",
       "    </tr>\n",
       "  </tbody>\n",
       "</table>\n",
       "</div>"
      ],
      "text/plain": [
       "             datetime  season  holiday  workingday  weather  temp   atemp  \\\n",
       "0 2011-01-01 00:00:00       1        0           0        1  9.84  14.395   \n",
       "1 2011-01-01 01:00:00       1        0           0        1  9.02  13.635   \n",
       "2 2011-01-01 02:00:00       1        0           0        1  9.02  13.635   \n",
       "3 2011-01-01 03:00:00       1        0           0        1  9.84  14.395   \n",
       "4 2011-01-01 04:00:00       1        0           0        1  9.84  14.395   \n",
       "\n",
       "   humidity  windspeed  casual  registered  count  year  month  day  hour  \\\n",
       "0        81        0.0       3          13     16  2011      1    1     0   \n",
       "1        80        0.0       8          32     40  2011      1    1     1   \n",
       "2        80        0.0       5          27     32  2011      1    1     2   \n",
       "3        75        0.0       3          10     13  2011      1    1     3   \n",
       "4        75        0.0       0           1      1  2011      1    1     4   \n",
       "\n",
       "   minute  second  dayofweek  \n",
       "0       0       0          5  \n",
       "1       0       0          5  \n",
       "2       0       0          5  \n",
       "3       0       0          5  \n",
       "4       0       0          5  "
      ]
     },
     "execution_count": 3,
     "metadata": {},
     "output_type": "execute_result"
    }
   ],
   "source": [
    "train.head()"
   ]
  },
  {
   "cell_type": "code",
   "execution_count": 4,
   "metadata": {},
   "outputs": [
    {
     "name": "stdout",
     "output_type": "stream",
     "text": [
      "(10886, 19)\n",
      "(10739, 19)\n"
     ]
    }
   ],
   "source": [
    "trainWithoutOutliers = train[np.abs(train['count'] - train['count'].mean()) <= (3*train['count'].std())]\n",
    "\n",
    "print(train.shape)\n",
    "print(trainWithoutOutliers.shape)\n",
    "\n",
    "#이상치 147개 제거"
   ]
  },
  {
   "cell_type": "code",
   "execution_count": 5,
   "metadata": {},
   "outputs": [],
   "source": [
    "categorical_feature_names =['season','holiday','workingday','weather',\n",
    "                           'dayofweek','month','year','hour']\n",
    "for var in categorical_feature_names:\n",
    "    train[var] = trainWithoutOutliers[var].astype('category')\n",
    "    test[var] = test[var].astype(\"category\")"
   ]
  },
  {
   "cell_type": "code",
   "execution_count": 6,
   "metadata": {
    "scrolled": true
   },
   "outputs": [
    {
     "name": "stdout",
     "output_type": "stream",
     "text": [
      "<class 'pandas.core.frame.DataFrame'>\n",
      "RangeIndex: 10886 entries, 0 to 10885\n",
      "Data columns (total 19 columns):\n",
      " #   Column      Non-Null Count  Dtype         \n",
      "---  ------      --------------  -----         \n",
      " 0   datetime    10886 non-null  datetime64[ns]\n",
      " 1   season      10739 non-null  category      \n",
      " 2   holiday     10739 non-null  category      \n",
      " 3   workingday  10739 non-null  category      \n",
      " 4   weather     10739 non-null  category      \n",
      " 5   temp        10886 non-null  float64       \n",
      " 6   atemp       10886 non-null  float64       \n",
      " 7   humidity    10886 non-null  int64         \n",
      " 8   windspeed   10886 non-null  float64       \n",
      " 9   casual      10886 non-null  int64         \n",
      " 10  registered  10886 non-null  int64         \n",
      " 11  count       10886 non-null  int64         \n",
      " 12  year        10739 non-null  category      \n",
      " 13  month       10739 non-null  category      \n",
      " 14  day         10886 non-null  int64         \n",
      " 15  hour        10739 non-null  category      \n",
      " 16  minute      10886 non-null  int64         \n",
      " 17  second      10886 non-null  int64         \n",
      " 18  dayofweek   10739 non-null  category      \n",
      "dtypes: category(8), datetime64[ns](1), float64(3), int64(7)\n",
      "memory usage: 1022.9 KB\n"
     ]
    }
   ],
   "source": [
    "train.info()"
   ]
  },
  {
   "cell_type": "code",
   "execution_count": 7,
   "metadata": {},
   "outputs": [
    {
     "data": {
      "text/plain": [
       "['season',\n",
       " 'weather',\n",
       " 'temp',\n",
       " 'atemp',\n",
       " 'humidity',\n",
       " 'windspeed',\n",
       " 'year',\n",
       " 'hour',\n",
       " 'dayofweek',\n",
       " 'holiday',\n",
       " 'workingday']"
      ]
     },
     "execution_count": 7,
     "metadata": {},
     "output_type": "execute_result"
    }
   ],
   "source": [
    "feature_names7 = [\"season\", \"weather\", \"temp\", \"atemp\", \"humidity\", \"windspeed\",\n",
    "                 \"year\", \"hour\", \"dayofweek\", \"holiday\", \"workingday\"]\n",
    "\n",
    "feature_names7"
   ]
  },
  {
   "cell_type": "markdown",
   "metadata": {},
   "source": [
    "## xy 만들기"
   ]
  },
  {
   "cell_type": "code",
   "execution_count": 8,
   "metadata": {},
   "outputs": [
    {
     "name": "stdout",
     "output_type": "stream",
     "text": [
      "(10739, 11)\n"
     ]
    },
    {
     "data": {
      "text/html": [
       "<div>\n",
       "<style scoped>\n",
       "    .dataframe tbody tr th:only-of-type {\n",
       "        vertical-align: middle;\n",
       "    }\n",
       "\n",
       "    .dataframe tbody tr th {\n",
       "        vertical-align: top;\n",
       "    }\n",
       "\n",
       "    .dataframe thead th {\n",
       "        text-align: right;\n",
       "    }\n",
       "</style>\n",
       "<table border=\"1\" class=\"dataframe\">\n",
       "  <thead>\n",
       "    <tr style=\"text-align: right;\">\n",
       "      <th></th>\n",
       "      <th>season</th>\n",
       "      <th>weather</th>\n",
       "      <th>temp</th>\n",
       "      <th>atemp</th>\n",
       "      <th>humidity</th>\n",
       "      <th>windspeed</th>\n",
       "      <th>year</th>\n",
       "      <th>hour</th>\n",
       "      <th>dayofweek</th>\n",
       "      <th>holiday</th>\n",
       "      <th>workingday</th>\n",
       "    </tr>\n",
       "  </thead>\n",
       "  <tbody>\n",
       "    <tr>\n",
       "      <th>0</th>\n",
       "      <td>1</td>\n",
       "      <td>1</td>\n",
       "      <td>9.84</td>\n",
       "      <td>14.395</td>\n",
       "      <td>81</td>\n",
       "      <td>0.0</td>\n",
       "      <td>2011</td>\n",
       "      <td>0</td>\n",
       "      <td>5</td>\n",
       "      <td>0</td>\n",
       "      <td>0</td>\n",
       "    </tr>\n",
       "    <tr>\n",
       "      <th>1</th>\n",
       "      <td>1</td>\n",
       "      <td>1</td>\n",
       "      <td>9.02</td>\n",
       "      <td>13.635</td>\n",
       "      <td>80</td>\n",
       "      <td>0.0</td>\n",
       "      <td>2011</td>\n",
       "      <td>1</td>\n",
       "      <td>5</td>\n",
       "      <td>0</td>\n",
       "      <td>0</td>\n",
       "    </tr>\n",
       "    <tr>\n",
       "      <th>2</th>\n",
       "      <td>1</td>\n",
       "      <td>1</td>\n",
       "      <td>9.02</td>\n",
       "      <td>13.635</td>\n",
       "      <td>80</td>\n",
       "      <td>0.0</td>\n",
       "      <td>2011</td>\n",
       "      <td>2</td>\n",
       "      <td>5</td>\n",
       "      <td>0</td>\n",
       "      <td>0</td>\n",
       "    </tr>\n",
       "    <tr>\n",
       "      <th>3</th>\n",
       "      <td>1</td>\n",
       "      <td>1</td>\n",
       "      <td>9.84</td>\n",
       "      <td>14.395</td>\n",
       "      <td>75</td>\n",
       "      <td>0.0</td>\n",
       "      <td>2011</td>\n",
       "      <td>3</td>\n",
       "      <td>5</td>\n",
       "      <td>0</td>\n",
       "      <td>0</td>\n",
       "    </tr>\n",
       "    <tr>\n",
       "      <th>4</th>\n",
       "      <td>1</td>\n",
       "      <td>1</td>\n",
       "      <td>9.84</td>\n",
       "      <td>14.395</td>\n",
       "      <td>75</td>\n",
       "      <td>0.0</td>\n",
       "      <td>2011</td>\n",
       "      <td>4</td>\n",
       "      <td>5</td>\n",
       "      <td>0</td>\n",
       "      <td>0</td>\n",
       "    </tr>\n",
       "  </tbody>\n",
       "</table>\n",
       "</div>"
      ],
      "text/plain": [
       "   season  weather  temp   atemp  humidity  windspeed  year  hour  dayofweek  \\\n",
       "0       1        1  9.84  14.395        81        0.0  2011     0          5   \n",
       "1       1        1  9.02  13.635        80        0.0  2011     1          5   \n",
       "2       1        1  9.02  13.635        80        0.0  2011     2          5   \n",
       "3       1        1  9.84  14.395        75        0.0  2011     3          5   \n",
       "4       1        1  9.84  14.395        75        0.0  2011     4          5   \n",
       "\n",
       "   holiday  workingday  \n",
       "0        0           0  \n",
       "1        0           0  \n",
       "2        0           0  \n",
       "3        0           0  \n",
       "4        0           0  "
      ]
     },
     "execution_count": 8,
     "metadata": {},
     "output_type": "execute_result"
    }
   ],
   "source": [
    "X_train7 = trainWithoutOutliers[feature_names7]\n",
    "\n",
    "print(X_train7.shape)\n",
    "X_train7.head()"
   ]
  },
  {
   "cell_type": "code",
   "execution_count": 9,
   "metadata": {},
   "outputs": [
    {
     "name": "stdout",
     "output_type": "stream",
     "text": [
      "(6493, 11)\n"
     ]
    },
    {
     "data": {
      "text/html": [
       "<div>\n",
       "<style scoped>\n",
       "    .dataframe tbody tr th:only-of-type {\n",
       "        vertical-align: middle;\n",
       "    }\n",
       "\n",
       "    .dataframe tbody tr th {\n",
       "        vertical-align: top;\n",
       "    }\n",
       "\n",
       "    .dataframe thead th {\n",
       "        text-align: right;\n",
       "    }\n",
       "</style>\n",
       "<table border=\"1\" class=\"dataframe\">\n",
       "  <thead>\n",
       "    <tr style=\"text-align: right;\">\n",
       "      <th></th>\n",
       "      <th>season</th>\n",
       "      <th>weather</th>\n",
       "      <th>temp</th>\n",
       "      <th>atemp</th>\n",
       "      <th>humidity</th>\n",
       "      <th>windspeed</th>\n",
       "      <th>year</th>\n",
       "      <th>hour</th>\n",
       "      <th>dayofweek</th>\n",
       "      <th>holiday</th>\n",
       "      <th>workingday</th>\n",
       "    </tr>\n",
       "  </thead>\n",
       "  <tbody>\n",
       "    <tr>\n",
       "      <th>0</th>\n",
       "      <td>1</td>\n",
       "      <td>1</td>\n",
       "      <td>10.66</td>\n",
       "      <td>11.365</td>\n",
       "      <td>56</td>\n",
       "      <td>26.0027</td>\n",
       "      <td>2011</td>\n",
       "      <td>0</td>\n",
       "      <td>3</td>\n",
       "      <td>0</td>\n",
       "      <td>1</td>\n",
       "    </tr>\n",
       "    <tr>\n",
       "      <th>1</th>\n",
       "      <td>1</td>\n",
       "      <td>1</td>\n",
       "      <td>10.66</td>\n",
       "      <td>13.635</td>\n",
       "      <td>56</td>\n",
       "      <td>0.0000</td>\n",
       "      <td>2011</td>\n",
       "      <td>1</td>\n",
       "      <td>3</td>\n",
       "      <td>0</td>\n",
       "      <td>1</td>\n",
       "    </tr>\n",
       "    <tr>\n",
       "      <th>2</th>\n",
       "      <td>1</td>\n",
       "      <td>1</td>\n",
       "      <td>10.66</td>\n",
       "      <td>13.635</td>\n",
       "      <td>56</td>\n",
       "      <td>0.0000</td>\n",
       "      <td>2011</td>\n",
       "      <td>2</td>\n",
       "      <td>3</td>\n",
       "      <td>0</td>\n",
       "      <td>1</td>\n",
       "    </tr>\n",
       "    <tr>\n",
       "      <th>3</th>\n",
       "      <td>1</td>\n",
       "      <td>1</td>\n",
       "      <td>10.66</td>\n",
       "      <td>12.880</td>\n",
       "      <td>56</td>\n",
       "      <td>11.0014</td>\n",
       "      <td>2011</td>\n",
       "      <td>3</td>\n",
       "      <td>3</td>\n",
       "      <td>0</td>\n",
       "      <td>1</td>\n",
       "    </tr>\n",
       "    <tr>\n",
       "      <th>4</th>\n",
       "      <td>1</td>\n",
       "      <td>1</td>\n",
       "      <td>10.66</td>\n",
       "      <td>12.880</td>\n",
       "      <td>56</td>\n",
       "      <td>11.0014</td>\n",
       "      <td>2011</td>\n",
       "      <td>4</td>\n",
       "      <td>3</td>\n",
       "      <td>0</td>\n",
       "      <td>1</td>\n",
       "    </tr>\n",
       "  </tbody>\n",
       "</table>\n",
       "</div>"
      ],
      "text/plain": [
       "  season weather   temp   atemp  humidity  windspeed  year hour dayofweek  \\\n",
       "0      1       1  10.66  11.365        56    26.0027  2011    0         3   \n",
       "1      1       1  10.66  13.635        56     0.0000  2011    1         3   \n",
       "2      1       1  10.66  13.635        56     0.0000  2011    2         3   \n",
       "3      1       1  10.66  12.880        56    11.0014  2011    3         3   \n",
       "4      1       1  10.66  12.880        56    11.0014  2011    4         3   \n",
       "\n",
       "  holiday workingday  \n",
       "0       0          1  \n",
       "1       0          1  \n",
       "2       0          1  \n",
       "3       0          1  \n",
       "4       0          1  "
      ]
     },
     "execution_count": 9,
     "metadata": {},
     "output_type": "execute_result"
    }
   ],
   "source": [
    "X_test7 = test[feature_names7]\n",
    "\n",
    "print(X_test7.shape)\n",
    "X_test7.head()"
   ]
  },
  {
   "cell_type": "code",
   "execution_count": 10,
   "metadata": {},
   "outputs": [
    {
     "name": "stdout",
     "output_type": "stream",
     "text": [
      "(10739,)\n"
     ]
    },
    {
     "data": {
      "text/plain": [
       "0         16\n",
       "1         40\n",
       "2         32\n",
       "3         13\n",
       "4          1\n",
       "        ... \n",
       "10881    336\n",
       "10882    241\n",
       "10883    168\n",
       "10884    129\n",
       "10885     88\n",
       "Name: count, Length: 10739, dtype: int64"
      ]
     },
     "execution_count": 10,
     "metadata": {},
     "output_type": "execute_result"
    }
   ],
   "source": [
    "label_name = \"count\"\n",
    "\n",
    "y_train7 = trainWithoutOutliers[label_name]\n",
    "\n",
    "print(y_train7.shape)\n",
    "y_train7.head()\n",
    "\n",
    "\n",
    "y_train7"
   ]
  },
  {
   "cell_type": "markdown",
   "metadata": {},
   "source": [
    "## 검증 함수만들기"
   ]
  },
  {
   "cell_type": "code",
   "execution_count": 11,
   "metadata": {},
   "outputs": [],
   "source": [
    "from sklearn.metrics import make_scorer\n",
    "\n",
    "def rmsle(predicted_values, actual_values, convertExp=True):\n",
    "\n",
    "    if convertExp:\n",
    "        predicted_values = np.exp(predicted_values),\n",
    "        actual_values = np.exp(actual_values)\n",
    "        \n",
    "    # 넘파이로 배열 형태로 바꿔준다.\n",
    "    predicted_values = np.array(predicted_values)\n",
    "    actual_values = np.array(actual_values)\n",
    "    \n",
    "    # 예측값과 실제 값에 1을 더하고 로그를 씌워준다.\n",
    "    # 값이 0일 수도 있어서 로그를 취했을 때 마이너스 무한대가 될 수도 있기 때문에 1을 더해 줌\n",
    "    # 로그를 씌워주는 것은 정규분포로 만들어주기 위해\n",
    "    log_predict = np.log(predicted_values + 1)\n",
    "    log_actual = np.log(actual_values + 1)\n",
    "    \n",
    "    # 위에서 계산한 예측값에서 실제값을 빼주고 제곱을 해준다.\n",
    "    difference = log_predict - log_actual\n",
    "    difference = np.square(difference)\n",
    "    \n",
    "    # 평균을 낸다.\n",
    "    mean_difference = difference.mean()\n",
    "    \n",
    "    # 다시 루트를 씌운다.\n",
    "    score = np.sqrt(mean_difference)\n",
    "    \n",
    "    return score"
   ]
  },
  {
   "cell_type": "markdown",
   "metadata": {},
   "source": [
    "## linear\n",
    "\n",
    "- 선형회귀 또는 최소제곱법은 가장 간단하고 오래된 회귀용 선형 알고리즘\n",
    "- 선형회귀는 예측과 훈련 세트에 있는 타깃 y사이의 평균제곱오차(MSE)를 최소화하는 파라미터 w와 b를 찾는다.\n",
    "- 매개변수가 없는 것이 장점이지만, 모델의 복잡도를 제어할 수 없다는 단점이 있다.\n",
    "- 아래 위키피디아에서 가져 온 그래프에서 파란선이 선형회귀 모델을 나타내고 빨간점들이 훈련데이터를 나타낸다.\n"
   ]
  },
  {
   "cell_type": "code",
   "execution_count": 16,
   "metadata": {},
   "outputs": [],
   "source": [
    "from sklearn.linear_model import LinearRegression,Ridge,Lasso\n",
    "from sklearn.model_selection import GridSearchCV\n",
    "from sklearn import metrics\n",
    "import warnings\n",
    "pd.options.mode.chained_assignment = None\n",
    "warnings.filterwarnings(\"ignore\", category=DeprecationWarning)\n"
   ]
  },
  {
   "cell_type": "code",
   "execution_count": 17,
   "metadata": {},
   "outputs": [
    {
     "data": {
      "text/plain": [
       "season        0\n",
       "weather       0\n",
       "temp          0\n",
       "atemp         0\n",
       "humidity      0\n",
       "windspeed     0\n",
       "year          0\n",
       "hour          0\n",
       "dayofweek     0\n",
       "holiday       0\n",
       "workingday    0\n",
       "dtype: int64"
      ]
     },
     "execution_count": 17,
     "metadata": {},
     "output_type": "execute_result"
    }
   ],
   "source": [
    "X_train7.isnull().sum()"
   ]
  },
  {
   "cell_type": "code",
   "execution_count": 18,
   "metadata": {},
   "outputs": [
    {
     "data": {
      "text/plain": [
       "LinearRegression(copy_X=True, fit_intercept=True, n_jobs=None, normalize=False)"
      ]
     },
     "execution_count": 18,
     "metadata": {},
     "output_type": "execute_result"
    }
   ],
   "source": [
    "lModel = LinearRegression()\n",
    "\n",
    "# 모델을 학습시킨다.\n",
    "y_train7_log = np.log1p(y_train7)\n",
    "lModel.fit(X_train7, y_train7_log)"
   ]
  },
  {
   "cell_type": "code",
   "execution_count": 19,
   "metadata": {},
   "outputs": [
    {
     "name": "stdout",
     "output_type": "stream",
     "text": [
      "RMSLE Value For Linear Regression:  0.9786969904386712\n"
     ]
    }
   ],
   "source": [
    "preds= lModel.predict(X_train7)\n",
    "print (\"RMSLE Value For Linear Regression: \",\n",
    "       rmsle(np.exp(y_train7_log),np.exp(preds), False))\n",
    "# RMSLE Value For Linear Regression:  0.9803697923313522"
   ]
  },
  {
   "cell_type": "markdown",
   "metadata": {},
   "source": [
    "### test : 0.9787 / kaggle 1.09158"
   ]
  },
  {
   "cell_type": "code",
   "execution_count": 20,
   "metadata": {},
   "outputs": [
    {
     "ename": "ValueError",
     "evalue": "Length of values does not match length of index",
     "output_type": "error",
     "traceback": [
      "\u001b[1;31m---------------------------------------------------------------------------\u001b[0m",
      "\u001b[1;31mValueError\u001b[0m                                Traceback (most recent call last)",
      "\u001b[1;32m<ipython-input-20-5f3087e6a44c>\u001b[0m in \u001b[0;36m<module>\u001b[1;34m\u001b[0m\n\u001b[0;32m      2\u001b[0m \u001b[0msubmission7_lin\u001b[0m\u001b[1;33m\u001b[0m\u001b[1;33m\u001b[0m\u001b[0m\n\u001b[0;32m      3\u001b[0m \u001b[1;33m\u001b[0m\u001b[0m\n\u001b[1;32m----> 4\u001b[1;33m \u001b[0msubmission7_lin\u001b[0m\u001b[1;33m[\u001b[0m\u001b[1;34m\"count\"\u001b[0m\u001b[1;33m]\u001b[0m \u001b[1;33m=\u001b[0m \u001b[0mnp\u001b[0m\u001b[1;33m.\u001b[0m\u001b[0mexp\u001b[0m\u001b[1;33m(\u001b[0m\u001b[0mpreds\u001b[0m\u001b[1;33m)\u001b[0m\u001b[1;33m\u001b[0m\u001b[1;33m\u001b[0m\u001b[0m\n\u001b[0m\u001b[0;32m      5\u001b[0m \u001b[1;33m\u001b[0m\u001b[0m\n\u001b[0;32m      6\u001b[0m \u001b[0mprint\u001b[0m\u001b[1;33m(\u001b[0m\u001b[0msubmission7_lin\u001b[0m\u001b[1;33m.\u001b[0m\u001b[0mshape\u001b[0m\u001b[1;33m)\u001b[0m\u001b[1;33m\u001b[0m\u001b[1;33m\u001b[0m\u001b[0m\n",
      "\u001b[1;32m~\\anaconda3\\lib\\site-packages\\pandas\\core\\frame.py\u001b[0m in \u001b[0;36m__setitem__\u001b[1;34m(self, key, value)\u001b[0m\n\u001b[0;32m   2936\u001b[0m         \u001b[1;32melse\u001b[0m\u001b[1;33m:\u001b[0m\u001b[1;33m\u001b[0m\u001b[1;33m\u001b[0m\u001b[0m\n\u001b[0;32m   2937\u001b[0m             \u001b[1;31m# set column\u001b[0m\u001b[1;33m\u001b[0m\u001b[1;33m\u001b[0m\u001b[1;33m\u001b[0m\u001b[0m\n\u001b[1;32m-> 2938\u001b[1;33m             \u001b[0mself\u001b[0m\u001b[1;33m.\u001b[0m\u001b[0m_set_item\u001b[0m\u001b[1;33m(\u001b[0m\u001b[0mkey\u001b[0m\u001b[1;33m,\u001b[0m \u001b[0mvalue\u001b[0m\u001b[1;33m)\u001b[0m\u001b[1;33m\u001b[0m\u001b[1;33m\u001b[0m\u001b[0m\n\u001b[0m\u001b[0;32m   2939\u001b[0m \u001b[1;33m\u001b[0m\u001b[0m\n\u001b[0;32m   2940\u001b[0m     \u001b[1;32mdef\u001b[0m \u001b[0m_setitem_slice\u001b[0m\u001b[1;33m(\u001b[0m\u001b[0mself\u001b[0m\u001b[1;33m,\u001b[0m \u001b[0mkey\u001b[0m\u001b[1;33m,\u001b[0m \u001b[0mvalue\u001b[0m\u001b[1;33m)\u001b[0m\u001b[1;33m:\u001b[0m\u001b[1;33m\u001b[0m\u001b[1;33m\u001b[0m\u001b[0m\n",
      "\u001b[1;32m~\\anaconda3\\lib\\site-packages\\pandas\\core\\frame.py\u001b[0m in \u001b[0;36m_set_item\u001b[1;34m(self, key, value)\u001b[0m\n\u001b[0;32m   2998\u001b[0m \u001b[1;33m\u001b[0m\u001b[0m\n\u001b[0;32m   2999\u001b[0m         \u001b[0mself\u001b[0m\u001b[1;33m.\u001b[0m\u001b[0m_ensure_valid_index\u001b[0m\u001b[1;33m(\u001b[0m\u001b[0mvalue\u001b[0m\u001b[1;33m)\u001b[0m\u001b[1;33m\u001b[0m\u001b[1;33m\u001b[0m\u001b[0m\n\u001b[1;32m-> 3000\u001b[1;33m         \u001b[0mvalue\u001b[0m \u001b[1;33m=\u001b[0m \u001b[0mself\u001b[0m\u001b[1;33m.\u001b[0m\u001b[0m_sanitize_column\u001b[0m\u001b[1;33m(\u001b[0m\u001b[0mkey\u001b[0m\u001b[1;33m,\u001b[0m \u001b[0mvalue\u001b[0m\u001b[1;33m)\u001b[0m\u001b[1;33m\u001b[0m\u001b[1;33m\u001b[0m\u001b[0m\n\u001b[0m\u001b[0;32m   3001\u001b[0m         \u001b[0mNDFrame\u001b[0m\u001b[1;33m.\u001b[0m\u001b[0m_set_item\u001b[0m\u001b[1;33m(\u001b[0m\u001b[0mself\u001b[0m\u001b[1;33m,\u001b[0m \u001b[0mkey\u001b[0m\u001b[1;33m,\u001b[0m \u001b[0mvalue\u001b[0m\u001b[1;33m)\u001b[0m\u001b[1;33m\u001b[0m\u001b[1;33m\u001b[0m\u001b[0m\n\u001b[0;32m   3002\u001b[0m \u001b[1;33m\u001b[0m\u001b[0m\n",
      "\u001b[1;32m~\\anaconda3\\lib\\site-packages\\pandas\\core\\frame.py\u001b[0m in \u001b[0;36m_sanitize_column\u001b[1;34m(self, key, value, broadcast)\u001b[0m\n\u001b[0;32m   3634\u001b[0m \u001b[1;33m\u001b[0m\u001b[0m\n\u001b[0;32m   3635\u001b[0m             \u001b[1;31m# turn me into an ndarray\u001b[0m\u001b[1;33m\u001b[0m\u001b[1;33m\u001b[0m\u001b[1;33m\u001b[0m\u001b[0m\n\u001b[1;32m-> 3636\u001b[1;33m             \u001b[0mvalue\u001b[0m \u001b[1;33m=\u001b[0m \u001b[0msanitize_index\u001b[0m\u001b[1;33m(\u001b[0m\u001b[0mvalue\u001b[0m\u001b[1;33m,\u001b[0m \u001b[0mself\u001b[0m\u001b[1;33m.\u001b[0m\u001b[0mindex\u001b[0m\u001b[1;33m,\u001b[0m \u001b[0mcopy\u001b[0m\u001b[1;33m=\u001b[0m\u001b[1;32mFalse\u001b[0m\u001b[1;33m)\u001b[0m\u001b[1;33m\u001b[0m\u001b[1;33m\u001b[0m\u001b[0m\n\u001b[0m\u001b[0;32m   3637\u001b[0m             \u001b[1;32mif\u001b[0m \u001b[1;32mnot\u001b[0m \u001b[0misinstance\u001b[0m\u001b[1;33m(\u001b[0m\u001b[0mvalue\u001b[0m\u001b[1;33m,\u001b[0m \u001b[1;33m(\u001b[0m\u001b[0mnp\u001b[0m\u001b[1;33m.\u001b[0m\u001b[0mndarray\u001b[0m\u001b[1;33m,\u001b[0m \u001b[0mIndex\u001b[0m\u001b[1;33m)\u001b[0m\u001b[1;33m)\u001b[0m\u001b[1;33m:\u001b[0m\u001b[1;33m\u001b[0m\u001b[1;33m\u001b[0m\u001b[0m\n\u001b[0;32m   3638\u001b[0m                 \u001b[1;32mif\u001b[0m \u001b[0misinstance\u001b[0m\u001b[1;33m(\u001b[0m\u001b[0mvalue\u001b[0m\u001b[1;33m,\u001b[0m \u001b[0mlist\u001b[0m\u001b[1;33m)\u001b[0m \u001b[1;32mand\u001b[0m \u001b[0mlen\u001b[0m\u001b[1;33m(\u001b[0m\u001b[0mvalue\u001b[0m\u001b[1;33m)\u001b[0m \u001b[1;33m>\u001b[0m \u001b[1;36m0\u001b[0m\u001b[1;33m:\u001b[0m\u001b[1;33m\u001b[0m\u001b[1;33m\u001b[0m\u001b[0m\n",
      "\u001b[1;32m~\\anaconda3\\lib\\site-packages\\pandas\\core\\internals\\construction.py\u001b[0m in \u001b[0;36msanitize_index\u001b[1;34m(data, index, copy)\u001b[0m\n\u001b[0;32m    609\u001b[0m \u001b[1;33m\u001b[0m\u001b[0m\n\u001b[0;32m    610\u001b[0m     \u001b[1;32mif\u001b[0m \u001b[0mlen\u001b[0m\u001b[1;33m(\u001b[0m\u001b[0mdata\u001b[0m\u001b[1;33m)\u001b[0m \u001b[1;33m!=\u001b[0m \u001b[0mlen\u001b[0m\u001b[1;33m(\u001b[0m\u001b[0mindex\u001b[0m\u001b[1;33m)\u001b[0m\u001b[1;33m:\u001b[0m\u001b[1;33m\u001b[0m\u001b[1;33m\u001b[0m\u001b[0m\n\u001b[1;32m--> 611\u001b[1;33m         \u001b[1;32mraise\u001b[0m \u001b[0mValueError\u001b[0m\u001b[1;33m(\u001b[0m\u001b[1;34m\"Length of values does not match length of index\"\u001b[0m\u001b[1;33m)\u001b[0m\u001b[1;33m\u001b[0m\u001b[1;33m\u001b[0m\u001b[0m\n\u001b[0m\u001b[0;32m    612\u001b[0m \u001b[1;33m\u001b[0m\u001b[0m\n\u001b[0;32m    613\u001b[0m     \u001b[1;32mif\u001b[0m \u001b[0misinstance\u001b[0m\u001b[1;33m(\u001b[0m\u001b[0mdata\u001b[0m\u001b[1;33m,\u001b[0m \u001b[0mABCIndexClass\u001b[0m\u001b[1;33m)\u001b[0m \u001b[1;32mand\u001b[0m \u001b[1;32mnot\u001b[0m \u001b[0mcopy\u001b[0m\u001b[1;33m:\u001b[0m\u001b[1;33m\u001b[0m\u001b[1;33m\u001b[0m\u001b[0m\n",
      "\u001b[1;31mValueError\u001b[0m: Length of values does not match length of index"
     ]
    }
   ],
   "source": [
    "submission7_lin = pd.read_csv(\"./sampleSubmission.csv\")\n",
    "submission7_lin\n",
    "\n",
    "submission7_lin[\"count\"] = np.exp(preds)\n",
    "\n",
    "print(submission7_lin.shape)\n",
    "submission7_lin.head()\n",
    "\n",
    "\n",
    "submission7_lin.to_csv(\"./score_linear_submission.csv\", index=False)\n"
   ]
  },
  {
   "cell_type": "markdown",
   "metadata": {},
   "source": [
    "## Ridge\n",
    "- 선형회귀에서 얼마나 규제할지를 정하는게 알파값. 알파가 0이라면 리니어와 같다\n",
    "    - 알파가 크면 가중치가 0에 가까워진다 : 데이터의 평균을 지나는 수평선이된다\n",
    "- 회귀를 위한 선형모델\n",
    "- 가중치(w)의 모든 원소가 0에 가깝게 만들어 모든 피처가 주는 영향을 최소화(기울기를 작게 만듦)\n",
    "- Regularization(정규화)는 오버피팅(과대적합)이 되지 않도록 모델을 강제로 제한한다는 의미\n",
    "- max_iter(반복 실행하는 최대 횟수)는 3000을 넣어주었다.\n"
   ]
  },
  {
   "cell_type": "code",
   "execution_count": 21,
   "metadata": {
    "scrolled": true
   },
   "outputs": [
    {
     "name": "stdout",
     "output_type": "stream",
     "text": [
      "{'alpha': 0.01, 'max_iter': 3000}\n",
      "RMSLE Value For Ridge Regression:  0.9786969881901861\n"
     ]
    },
    {
     "data": {
      "text/html": [
       "<div>\n",
       "<style scoped>\n",
       "    .dataframe tbody tr th:only-of-type {\n",
       "        vertical-align: middle;\n",
       "    }\n",
       "\n",
       "    .dataframe tbody tr th {\n",
       "        vertical-align: top;\n",
       "    }\n",
       "\n",
       "    .dataframe thead th {\n",
       "        text-align: right;\n",
       "    }\n",
       "</style>\n",
       "<table border=\"1\" class=\"dataframe\">\n",
       "  <thead>\n",
       "    <tr style=\"text-align: right;\">\n",
       "      <th></th>\n",
       "      <th>mean_fit_time</th>\n",
       "      <th>std_fit_time</th>\n",
       "      <th>mean_score_time</th>\n",
       "      <th>std_score_time</th>\n",
       "      <th>param_alpha</th>\n",
       "      <th>param_max_iter</th>\n",
       "      <th>params</th>\n",
       "      <th>split0_test_score</th>\n",
       "      <th>split1_test_score</th>\n",
       "      <th>split2_test_score</th>\n",
       "      <th>split3_test_score</th>\n",
       "      <th>split4_test_score</th>\n",
       "      <th>mean_test_score</th>\n",
       "      <th>std_test_score</th>\n",
       "      <th>rank_test_score</th>\n",
       "    </tr>\n",
       "  </thead>\n",
       "  <tbody>\n",
       "    <tr>\n",
       "      <th>0</th>\n",
       "      <td>0.012063</td>\n",
       "      <td>0.009177</td>\n",
       "      <td>0.002981</td>\n",
       "      <td>0.000023</td>\n",
       "      <td>0.01</td>\n",
       "      <td>3000</td>\n",
       "      <td>{'alpha': 0.01, 'max_iter': 3000}</td>\n",
       "      <td>-1.010436</td>\n",
       "      <td>-0.901095</td>\n",
       "      <td>-1.027638</td>\n",
       "      <td>-1.028529</td>\n",
       "      <td>-0.970505</td>\n",
       "      <td>-0.987640</td>\n",
       "      <td>0.048114</td>\n",
       "      <td>1</td>\n",
       "    </tr>\n",
       "    <tr>\n",
       "      <th>1</th>\n",
       "      <td>0.007581</td>\n",
       "      <td>0.001621</td>\n",
       "      <td>0.002999</td>\n",
       "      <td>0.000631</td>\n",
       "      <td>0.1</td>\n",
       "      <td>3000</td>\n",
       "      <td>{'alpha': 0.1, 'max_iter': 3000}</td>\n",
       "      <td>-1.010439</td>\n",
       "      <td>-0.901094</td>\n",
       "      <td>-1.027638</td>\n",
       "      <td>-1.028528</td>\n",
       "      <td>-0.970505</td>\n",
       "      <td>-0.987641</td>\n",
       "      <td>0.048115</td>\n",
       "      <td>2</td>\n",
       "    </tr>\n",
       "    <tr>\n",
       "      <th>2</th>\n",
       "      <td>0.007782</td>\n",
       "      <td>0.000400</td>\n",
       "      <td>0.003588</td>\n",
       "      <td>0.000487</td>\n",
       "      <td>1</td>\n",
       "      <td>3000</td>\n",
       "      <td>{'alpha': 1, 'max_iter': 3000}</td>\n",
       "      <td>-1.010471</td>\n",
       "      <td>-0.901087</td>\n",
       "      <td>-1.027635</td>\n",
       "      <td>-1.028524</td>\n",
       "      <td>-0.970510</td>\n",
       "      <td>-0.987645</td>\n",
       "      <td>0.048119</td>\n",
       "      <td>3</td>\n",
       "    </tr>\n",
       "    <tr>\n",
       "      <th>3</th>\n",
       "      <td>0.006982</td>\n",
       "      <td>0.001410</td>\n",
       "      <td>0.002992</td>\n",
       "      <td>0.000893</td>\n",
       "      <td>2</td>\n",
       "      <td>3000</td>\n",
       "      <td>{'alpha': 2, 'max_iter': 3000}</td>\n",
       "      <td>-1.010507</td>\n",
       "      <td>-0.901078</td>\n",
       "      <td>-1.027632</td>\n",
       "      <td>-1.028520</td>\n",
       "      <td>-0.970515</td>\n",
       "      <td>-0.987650</td>\n",
       "      <td>0.048124</td>\n",
       "      <td>4</td>\n",
       "    </tr>\n",
       "    <tr>\n",
       "      <th>4</th>\n",
       "      <td>0.006782</td>\n",
       "      <td>0.000399</td>\n",
       "      <td>0.002592</td>\n",
       "      <td>0.000489</td>\n",
       "      <td>3</td>\n",
       "      <td>3000</td>\n",
       "      <td>{'alpha': 3, 'max_iter': 3000}</td>\n",
       "      <td>-1.010542</td>\n",
       "      <td>-0.901070</td>\n",
       "      <td>-1.027629</td>\n",
       "      <td>-1.028515</td>\n",
       "      <td>-0.970520</td>\n",
       "      <td>-0.987655</td>\n",
       "      <td>0.048129</td>\n",
       "      <td>5</td>\n",
       "    </tr>\n",
       "  </tbody>\n",
       "</table>\n",
       "</div>"
      ],
      "text/plain": [
       "   mean_fit_time  std_fit_time  mean_score_time  std_score_time param_alpha  \\\n",
       "0       0.012063      0.009177         0.002981        0.000023        0.01   \n",
       "1       0.007581      0.001621         0.002999        0.000631         0.1   \n",
       "2       0.007782      0.000400         0.003588        0.000487           1   \n",
       "3       0.006982      0.001410         0.002992        0.000893           2   \n",
       "4       0.006782      0.000399         0.002592        0.000489           3   \n",
       "\n",
       "  param_max_iter                             params  split0_test_score  \\\n",
       "0           3000  {'alpha': 0.01, 'max_iter': 3000}          -1.010436   \n",
       "1           3000   {'alpha': 0.1, 'max_iter': 3000}          -1.010439   \n",
       "2           3000     {'alpha': 1, 'max_iter': 3000}          -1.010471   \n",
       "3           3000     {'alpha': 2, 'max_iter': 3000}          -1.010507   \n",
       "4           3000     {'alpha': 3, 'max_iter': 3000}          -1.010542   \n",
       "\n",
       "   split1_test_score  split2_test_score  split3_test_score  split4_test_score  \\\n",
       "0          -0.901095          -1.027638          -1.028529          -0.970505   \n",
       "1          -0.901094          -1.027638          -1.028528          -0.970505   \n",
       "2          -0.901087          -1.027635          -1.028524          -0.970510   \n",
       "3          -0.901078          -1.027632          -1.028520          -0.970515   \n",
       "4          -0.901070          -1.027629          -1.028515          -0.970520   \n",
       "\n",
       "   mean_test_score  std_test_score  rank_test_score  \n",
       "0        -0.987640        0.048114                1  \n",
       "1        -0.987641        0.048115                2  \n",
       "2        -0.987645        0.048119                3  \n",
       "3        -0.987650        0.048124                4  \n",
       "4        -0.987655        0.048129                5  "
      ]
     },
     "execution_count": 21,
     "metadata": {},
     "output_type": "execute_result"
    }
   ],
   "source": [
    "ridge_m_ = Ridge()\n",
    "ridge_params_ = { 'max_iter':[3000],'alpha':[0.01, 0.1, 1, 2, 3, 4, 10, 30,100,200,300,400,800,900,1000]}\n",
    "rmsle_scorer = metrics.make_scorer(rmsle, greater_is_better=False)\n",
    "grid_ridge_m = GridSearchCV( ridge_m_,\n",
    "                          ridge_params_,\n",
    "                          scoring = rmsle_scorer,\n",
    "                          cv=5)\n",
    "\n",
    "y_train_log = np.log1p(y_train7)\n",
    "grid_ridge_m.fit( X_train7, y_train7_log )\n",
    "preds = grid_ridge_m.predict(X_train7)\n",
    "print (grid_ridge_m.best_params_)\n",
    "print (\"RMSLE Value For Ridge Regression: \", rmsle(np.exp(y_train7_log),np.exp(preds), False))\n",
    "\n",
    "df = pd.DataFrame(grid_ridge_m.cv_results_)\n",
    "df.head()"
   ]
  },
  {
   "cell_type": "code",
   "execution_count": 23,
   "metadata": {},
   "outputs": [
    {
     "ename": "ValueError",
     "evalue": "Length of values does not match length of index",
     "output_type": "error",
     "traceback": [
      "\u001b[1;31m---------------------------------------------------------------------------\u001b[0m",
      "\u001b[1;31mValueError\u001b[0m                                Traceback (most recent call last)",
      "\u001b[1;32m<ipython-input-23-ae22fed62f39>\u001b[0m in \u001b[0;36m<module>\u001b[1;34m\u001b[0m\n\u001b[0;32m      2\u001b[0m \u001b[0msubmission7_ridge\u001b[0m\u001b[1;33m\u001b[0m\u001b[1;33m\u001b[0m\u001b[0m\n\u001b[0;32m      3\u001b[0m \u001b[1;33m\u001b[0m\u001b[0m\n\u001b[1;32m----> 4\u001b[1;33m \u001b[0msubmission7_ridge\u001b[0m\u001b[1;33m[\u001b[0m\u001b[1;34m\"count\"\u001b[0m\u001b[1;33m]\u001b[0m \u001b[1;33m=\u001b[0m \u001b[0mnp\u001b[0m\u001b[1;33m.\u001b[0m\u001b[0mexp\u001b[0m\u001b[1;33m(\u001b[0m\u001b[0mpreds\u001b[0m\u001b[1;33m)\u001b[0m\u001b[1;33m\u001b[0m\u001b[1;33m\u001b[0m\u001b[0m\n\u001b[0m",
      "\u001b[1;32m~\\anaconda3\\lib\\site-packages\\pandas\\core\\frame.py\u001b[0m in \u001b[0;36m__setitem__\u001b[1;34m(self, key, value)\u001b[0m\n\u001b[0;32m   2936\u001b[0m         \u001b[1;32melse\u001b[0m\u001b[1;33m:\u001b[0m\u001b[1;33m\u001b[0m\u001b[1;33m\u001b[0m\u001b[0m\n\u001b[0;32m   2937\u001b[0m             \u001b[1;31m# set column\u001b[0m\u001b[1;33m\u001b[0m\u001b[1;33m\u001b[0m\u001b[1;33m\u001b[0m\u001b[0m\n\u001b[1;32m-> 2938\u001b[1;33m             \u001b[0mself\u001b[0m\u001b[1;33m.\u001b[0m\u001b[0m_set_item\u001b[0m\u001b[1;33m(\u001b[0m\u001b[0mkey\u001b[0m\u001b[1;33m,\u001b[0m \u001b[0mvalue\u001b[0m\u001b[1;33m)\u001b[0m\u001b[1;33m\u001b[0m\u001b[1;33m\u001b[0m\u001b[0m\n\u001b[0m\u001b[0;32m   2939\u001b[0m \u001b[1;33m\u001b[0m\u001b[0m\n\u001b[0;32m   2940\u001b[0m     \u001b[1;32mdef\u001b[0m \u001b[0m_setitem_slice\u001b[0m\u001b[1;33m(\u001b[0m\u001b[0mself\u001b[0m\u001b[1;33m,\u001b[0m \u001b[0mkey\u001b[0m\u001b[1;33m,\u001b[0m \u001b[0mvalue\u001b[0m\u001b[1;33m)\u001b[0m\u001b[1;33m:\u001b[0m\u001b[1;33m\u001b[0m\u001b[1;33m\u001b[0m\u001b[0m\n",
      "\u001b[1;32m~\\anaconda3\\lib\\site-packages\\pandas\\core\\frame.py\u001b[0m in \u001b[0;36m_set_item\u001b[1;34m(self, key, value)\u001b[0m\n\u001b[0;32m   2998\u001b[0m \u001b[1;33m\u001b[0m\u001b[0m\n\u001b[0;32m   2999\u001b[0m         \u001b[0mself\u001b[0m\u001b[1;33m.\u001b[0m\u001b[0m_ensure_valid_index\u001b[0m\u001b[1;33m(\u001b[0m\u001b[0mvalue\u001b[0m\u001b[1;33m)\u001b[0m\u001b[1;33m\u001b[0m\u001b[1;33m\u001b[0m\u001b[0m\n\u001b[1;32m-> 3000\u001b[1;33m         \u001b[0mvalue\u001b[0m \u001b[1;33m=\u001b[0m \u001b[0mself\u001b[0m\u001b[1;33m.\u001b[0m\u001b[0m_sanitize_column\u001b[0m\u001b[1;33m(\u001b[0m\u001b[0mkey\u001b[0m\u001b[1;33m,\u001b[0m \u001b[0mvalue\u001b[0m\u001b[1;33m)\u001b[0m\u001b[1;33m\u001b[0m\u001b[1;33m\u001b[0m\u001b[0m\n\u001b[0m\u001b[0;32m   3001\u001b[0m         \u001b[0mNDFrame\u001b[0m\u001b[1;33m.\u001b[0m\u001b[0m_set_item\u001b[0m\u001b[1;33m(\u001b[0m\u001b[0mself\u001b[0m\u001b[1;33m,\u001b[0m \u001b[0mkey\u001b[0m\u001b[1;33m,\u001b[0m \u001b[0mvalue\u001b[0m\u001b[1;33m)\u001b[0m\u001b[1;33m\u001b[0m\u001b[1;33m\u001b[0m\u001b[0m\n\u001b[0;32m   3002\u001b[0m \u001b[1;33m\u001b[0m\u001b[0m\n",
      "\u001b[1;32m~\\anaconda3\\lib\\site-packages\\pandas\\core\\frame.py\u001b[0m in \u001b[0;36m_sanitize_column\u001b[1;34m(self, key, value, broadcast)\u001b[0m\n\u001b[0;32m   3634\u001b[0m \u001b[1;33m\u001b[0m\u001b[0m\n\u001b[0;32m   3635\u001b[0m             \u001b[1;31m# turn me into an ndarray\u001b[0m\u001b[1;33m\u001b[0m\u001b[1;33m\u001b[0m\u001b[1;33m\u001b[0m\u001b[0m\n\u001b[1;32m-> 3636\u001b[1;33m             \u001b[0mvalue\u001b[0m \u001b[1;33m=\u001b[0m \u001b[0msanitize_index\u001b[0m\u001b[1;33m(\u001b[0m\u001b[0mvalue\u001b[0m\u001b[1;33m,\u001b[0m \u001b[0mself\u001b[0m\u001b[1;33m.\u001b[0m\u001b[0mindex\u001b[0m\u001b[1;33m,\u001b[0m \u001b[0mcopy\u001b[0m\u001b[1;33m=\u001b[0m\u001b[1;32mFalse\u001b[0m\u001b[1;33m)\u001b[0m\u001b[1;33m\u001b[0m\u001b[1;33m\u001b[0m\u001b[0m\n\u001b[0m\u001b[0;32m   3637\u001b[0m             \u001b[1;32mif\u001b[0m \u001b[1;32mnot\u001b[0m \u001b[0misinstance\u001b[0m\u001b[1;33m(\u001b[0m\u001b[0mvalue\u001b[0m\u001b[1;33m,\u001b[0m \u001b[1;33m(\u001b[0m\u001b[0mnp\u001b[0m\u001b[1;33m.\u001b[0m\u001b[0mndarray\u001b[0m\u001b[1;33m,\u001b[0m \u001b[0mIndex\u001b[0m\u001b[1;33m)\u001b[0m\u001b[1;33m)\u001b[0m\u001b[1;33m:\u001b[0m\u001b[1;33m\u001b[0m\u001b[1;33m\u001b[0m\u001b[0m\n\u001b[0;32m   3638\u001b[0m                 \u001b[1;32mif\u001b[0m \u001b[0misinstance\u001b[0m\u001b[1;33m(\u001b[0m\u001b[0mvalue\u001b[0m\u001b[1;33m,\u001b[0m \u001b[0mlist\u001b[0m\u001b[1;33m)\u001b[0m \u001b[1;32mand\u001b[0m \u001b[0mlen\u001b[0m\u001b[1;33m(\u001b[0m\u001b[0mvalue\u001b[0m\u001b[1;33m)\u001b[0m \u001b[1;33m>\u001b[0m \u001b[1;36m0\u001b[0m\u001b[1;33m:\u001b[0m\u001b[1;33m\u001b[0m\u001b[1;33m\u001b[0m\u001b[0m\n",
      "\u001b[1;32m~\\anaconda3\\lib\\site-packages\\pandas\\core\\internals\\construction.py\u001b[0m in \u001b[0;36msanitize_index\u001b[1;34m(data, index, copy)\u001b[0m\n\u001b[0;32m    609\u001b[0m \u001b[1;33m\u001b[0m\u001b[0m\n\u001b[0;32m    610\u001b[0m     \u001b[1;32mif\u001b[0m \u001b[0mlen\u001b[0m\u001b[1;33m(\u001b[0m\u001b[0mdata\u001b[0m\u001b[1;33m)\u001b[0m \u001b[1;33m!=\u001b[0m \u001b[0mlen\u001b[0m\u001b[1;33m(\u001b[0m\u001b[0mindex\u001b[0m\u001b[1;33m)\u001b[0m\u001b[1;33m:\u001b[0m\u001b[1;33m\u001b[0m\u001b[1;33m\u001b[0m\u001b[0m\n\u001b[1;32m--> 611\u001b[1;33m         \u001b[1;32mraise\u001b[0m \u001b[0mValueError\u001b[0m\u001b[1;33m(\u001b[0m\u001b[1;34m\"Length of values does not match length of index\"\u001b[0m\u001b[1;33m)\u001b[0m\u001b[1;33m\u001b[0m\u001b[1;33m\u001b[0m\u001b[0m\n\u001b[0m\u001b[0;32m    612\u001b[0m \u001b[1;33m\u001b[0m\u001b[0m\n\u001b[0;32m    613\u001b[0m     \u001b[1;32mif\u001b[0m \u001b[0misinstance\u001b[0m\u001b[1;33m(\u001b[0m\u001b[0mdata\u001b[0m\u001b[1;33m,\u001b[0m \u001b[0mABCIndexClass\u001b[0m\u001b[1;33m)\u001b[0m \u001b[1;32mand\u001b[0m \u001b[1;32mnot\u001b[0m \u001b[0mcopy\u001b[0m\u001b[1;33m:\u001b[0m\u001b[1;33m\u001b[0m\u001b[1;33m\u001b[0m\u001b[0m\n",
      "\u001b[1;31mValueError\u001b[0m: Length of values does not match length of index"
     ]
    }
   ],
   "source": [
    "submission7_ridge = pd.read_csv(\"./sampleSubmission.csv\")\n",
    "submission7_ridge\n",
    "\n",
    "submission7_ridge[\"count\"] = np.exp(preds)\n"
   ]
  },
  {
   "cell_type": "code",
   "execution_count": null,
   "metadata": {},
   "outputs": [],
   "source": [
    "print(submission7_ridge.shape)\n",
    "submission7_ridge.head()\n",
    "\n",
    "\n",
    "submission7_ridge.to_csv(f\"./Score_{score:.5f}_ridge_submission.csv\", index=False)\n",
    "\n",
    "\n",
    "\n"
   ]
  },
  {
   "cell_type": "markdown",
   "metadata": {},
   "source": [
    "## ensemble_ randomforest\n",
    "\n",
    "\n"
   ]
  },
  {
   "cell_type": "code",
   "execution_count": null,
   "metadata": {},
   "outputs": [],
   "source": [
    "RandomForestRegressor(bootstrap=True, ccp_alpha=0.0, criterion='mse',\n",
    "                      max_depth=None, max_features='auto', max_leaf_nodes=None,\n",
    "                      max_samples=None, min_impurity_decrease=0.0,\n",
    "                      min_impurity_split=None, min_samples_leaf=1,\n",
    "                      min_samples_split=2, min_weight_fraction_leaf=0.0,\n",
    "                      n_estimators=100, n_jobs=-1, oob_score=False,\n",
    "                      random_state=0, verbose=0, warm_start=False)"
   ]
  },
  {
   "cell_type": "code",
   "execution_count": null,
   "metadata": {},
   "outputs": [],
   "source": []
  },
  {
   "cell_type": "code",
   "execution_count": null,
   "metadata": {},
   "outputs": [],
   "source": [
    "\n",
    "from sklearn.ensemble import RandomForestRegressor\n",
    "rfModel = RandomForestRegressor(n_estimators=300)\n",
    "\n",
    "\n",
    "y_train7_log = np.log1p(y_train7)\n",
    "rfModel.fit(X_train7,y_train7_log)\n",
    "\n",
    "preds = rfModel.predict(X_train7)\n",
    "score = rmsle(np.exp(y_train7_log),np.exp(preds),False)\n",
    "print('rmsle value for random forest',score)\n",
    "\n",
    "# df = pd.DataFrame(grid_rf.cv_results_)\n",
    "# df.head()\n"
   ]
  },
  {
   "cell_type": "code",
   "execution_count": null,
   "metadata": {},
   "outputs": [],
   "source": [
    "\n",
    "predsTest_rf = rfModel.predict(X_test7)\n",
    "\n",
    "fig,(ax1,ax2)= plt.subplots(ncols=2)\n",
    "fig.set_size_inches(12,5)\n",
    "sns.distplot(y_train7,ax=ax1,bins=50)\n",
    "sns.distplot(np.exp(predsTest_rf),ax=ax2,bins=50)\n",
    "\n",
    "submission7_rf = pd.read_csv(\"./sampleSubmission.csv\")\n",
    "submission7_rf\n",
    "\n",
    "submission7_rf[\"count\"] = np.exp(predsTest_rf)\n",
    "\n",
    "plt.savefig('./images/rfmodel')"
   ]
  },
  {
   "cell_type": "code",
   "execution_count": null,
   "metadata": {},
   "outputs": [],
   "source": [
    "print(submission7_rf.shape)\n",
    "submission7_rf.head()\n",
    "\n",
    "\n",
    "submission7_rf.to_csv(f\"./Score_{score:.5f}_rf_submission.csv\", index=False)\n",
    "\n",
    "\n",
    "\n"
   ]
  },
  {
   "cell_type": "code",
   "execution_count": null,
   "metadata": {},
   "outputs": [],
   "source": [
    "# rfModel = RandomForestRegressor(n_estimators=300)\n",
    "# rf_params = {'bootstrap': [True, False],\n",
    "#  'max_depth': [1,2,3,4,5,6,7,8,9,10, 20,None],\n",
    "#  'max_features': ['auto', 'sqrt'],\n",
    "#  'min_samples_leaf': [1, 2, 4],\n",
    "#  'min_samples_split': [2, 5, 10],\n",
    "#  'n_estimators': [100,200, 300,400]}\n",
    "# grid_rf = GridSearchCV( rfModel,rf_params,scoring=rmsle_scorer,cv=5)\n",
    "\n",
    "\n",
    "# y_train7_log = np.log1p(y_train7)\n",
    "# grid_rf.fit(X_train7,y_train7_log)\n",
    "\n",
    "# preds = grid_rf.predict(X_train7)\n",
    "# score = rmsle(np.exp(y_train7_log),np.exp(preds),False)\n",
    "# print('rmsle value for random forest',score)\n",
    "\n",
    "# # df = pd.DataFrame(grid_rf.cv_results_)\n",
    "# # df.head()\n"
   ]
  },
  {
   "cell_type": "markdown",
   "metadata": {},
   "source": [
    "## lasso\n",
    "- 선형회귀의 Regularization(규제)를 적용하는 대안\n",
    "- 계수를 0에 가깝게 만들려고 하며 이를 L1규제라고 하며, 어떤 계수는 0이 되기도 하는데 이는 완전히 제외하는 피처가 생긴다는 의미다.\n",
    "- 피처 선택이 자동으로 이루어진다고도 볼 수 있다.\n",
    "- alpha 값의 기본 값은 1.0이며, 과소 적합을 줄이기 위해서는 이 값을 줄여야 한다.\n",
    "- 그리드 서치로 아래 라쏘모델을 실행했을 때 베스트 알파값은 0.0025\n",
    "- max_iter(반복 실행하는 최대 횟수)는 3000을 넣어주었다.\n"
   ]
  },
  {
   "cell_type": "code",
   "execution_count": null,
   "metadata": {},
   "outputs": [],
   "source": [
    "lasso_m_ = Lasso()\n",
    "\n",
    "alpha  = 1/np.array([0.1, 1, 2, 3, 4, 10, 30,100,200,300,400,800,900,1000])\n",
    "lasso_params_ = { 'max_iter':[3000],'alpha':alpha}\n",
    "\n",
    "grid_lasso_m = GridSearchCV( lasso_m_,lasso_params_,scoring = rmsle_scorer,cv=5)\n",
    "y_train_log = np.log1p(y_train7)\n",
    "grid_lasso_m.fit( X_train7 , y_train7_log )\n",
    "preds = grid_lasso_m.predict(X_train7)\n",
    "print (grid_lasso_m.best_params_)\n",
    "print (\"RMSLE Value For Lasso Regression: \",rmsle(np.exp(y_train7_log),np.exp(preds),False))\n",
    "\n",
    "df = pd.DataFrame(grid_lasso_m.cv_results_)\n",
    "df[\"alpha\"] = df[\"params\"].apply(lambda x:x[\"alpha\"])\n",
    "df[\"rmsle\"] = df[\"mean_test_score\"].apply(lambda x:-x)\n",
    "\n",
    "df[[\"alpha\", \"rmsle\"]].head()\n",
    "\n"
   ]
  },
  {
   "cell_type": "code",
   "execution_count": null,
   "metadata": {},
   "outputs": [],
   "source": [
    "#시각화\n",
    "fig,ax= plt.subplots()\n",
    "fig.set_size_inches(12,5)\n",
    "plt.xticks(rotation=30, ha='right')\n",
    "sns.pointplot(data=df,x=\"alpha\",y=\"rmsle\",ax=ax)\n",
    "plt.savefig('./images/lasso')"
   ]
  },
  {
   "cell_type": "markdown",
   "metadata": {},
   "source": [
    "## 그라디언부스트 (부스팅)\n",
    "- https://excelsior-cjh.tistory.com/166\n",
    "- https://bkshin.tistory.com/entry/%EB%A8%B8%EC%8B%A0%EB%9F%AC%EB%8B%9D-11-%EC%95%99%EC%83%81%EB%B8%94-%ED%95%99%EC%8A%B5-Ensemble-Learning-%EB%B0%B0%EA%B9%85Bagging%EA%B3%BC-%EB%B6%80%EC%8A%A4%ED%8C%85Boosting?category=1057680\n",
    "\n",
    " ## 랜덤포레스트(배깅)\n",
    "- 부스팅은 배깅에 비해 error가 적습니다. 즉, 성능이 좋습니다. 하지만 속도가 느리고 오버 피팅이 될 가능성이 있습니다. 그렇다면 실제 사용할 때는 배깅과 부스팅 중 어떤 것을 선택해야 할까요? 상황에 따라 다르다고 할 수 있습니다. 개별 결정 트리의 낮은 성능이 문제라면 부스팅이 적합하고, 오버 피팅이 문제라면 배깅이 적합합니다.\n",
    "\n"
   ]
  },
  {
   "cell_type": "code",
   "execution_count": null,
   "metadata": {},
   "outputs": [],
   "source": [
    "from sklearn.ensemble import GradientBoostingRegressor\n",
    "gbm = GradientBoostingRegressor(n_estimators=4000, alpha=0.01);\n",
    "\n",
    "y_train7_log = np.log1p(y_train7)\n",
    "gbm.fit(X_train7, y_train7_log)\n",
    "\n",
    "preds = gbm.predict(X_train7)\n",
    "score = rmsle(np.exp(y_train7_log),np.exp(preds),False)\n",
    "print (\"RMSLE Value For Gradient Boost: \", score)\n"
   ]
  },
  {
   "cell_type": "code",
   "execution_count": null,
   "metadata": {},
   "outputs": [],
   "source": [
    "predsTest = gbm.predict(X_test7)\n",
    "fig,(ax1,ax2)= plt.subplots(ncols=2)\n",
    "fig.set_size_inches(12,5)\n",
    "sns.distplot(y_train7,ax=ax1,bins=50)\n",
    "sns.distplot(np.exp(predsTest),ax=ax2,bins=50)"
   ]
  },
  {
   "cell_type": "markdown",
   "metadata": {},
   "source": [
    "# submission"
   ]
  },
  {
   "cell_type": "code",
   "execution_count": null,
   "metadata": {},
   "outputs": [],
   "source": [
    "submission = pd.read_csv(\"./sampleSubmission.csv\")\n",
    "submission\n",
    "\n",
    "submission[\"count\"] = np.exp(predsTest)\n",
    "\n",
    "print(submission.shape)\n",
    "submission.head()\n",
    "\n",
    "\n",
    "submission.to_csv(f\"./Score_{score:.5f}_submission.csv\", index=False)\n"
   ]
  },
  {
   "cell_type": "code",
   "execution_count": null,
   "metadata": {},
   "outputs": [],
   "source": []
  }
 ],
 "metadata": {
  "kernelspec": {
   "display_name": "Python 3",
   "language": "python",
   "name": "python3"
  },
  "language_info": {
   "codemirror_mode": {
    "name": "ipython",
    "version": 3
   },
   "file_extension": ".py",
   "mimetype": "text/x-python",
   "name": "python",
   "nbconvert_exporter": "python",
   "pygments_lexer": "ipython3",
   "version": "3.7.6"
  },
  "toc": {
   "base_numbering": 1,
   "nav_menu": {},
   "number_sections": true,
   "sideBar": true,
   "skip_h1_title": false,
   "title_cell": "Table of Contents",
   "title_sidebar": "Contents",
   "toc_cell": false,
   "toc_position": {
    "height": "calc(100% - 180px)",
    "left": "10px",
    "top": "150px",
    "width": "165px"
   },
   "toc_section_display": true,
   "toc_window_display": true
  }
 },
 "nbformat": 4,
 "nbformat_minor": 4
}
